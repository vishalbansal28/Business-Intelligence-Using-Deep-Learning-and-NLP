{
  "cells": [
    {
      "cell_type": "code",
      "source": [
        "!pip install textblob\n",
        "!python -m textblob.download_corpora"
      ],
      "metadata": {
        "colab": {
          "base_uri": "https://localhost:8080/"
        },
        "id": "2D4oqV6M2SDp",
        "outputId": "da0995c7-516d-4a68-e083-5c42da738638"
      },
      "execution_count": null,
      "outputs": [
        {
          "output_type": "stream",
          "name": "stdout",
          "text": [
            "Requirement already satisfied: textblob in /usr/local/lib/python3.10/dist-packages (0.17.1)\n",
            "Requirement already satisfied: nltk>=3.1 in /usr/local/lib/python3.10/dist-packages (from textblob) (3.8.1)\n",
            "Requirement already satisfied: click in /usr/local/lib/python3.10/dist-packages (from nltk>=3.1->textblob) (8.1.7)\n",
            "Requirement already satisfied: joblib in /usr/local/lib/python3.10/dist-packages (from nltk>=3.1->textblob) (1.4.2)\n",
            "Requirement already satisfied: regex>=2021.8.3 in /usr/local/lib/python3.10/dist-packages (from nltk>=3.1->textblob) (2023.12.25)\n",
            "Requirement already satisfied: tqdm in /usr/local/lib/python3.10/dist-packages (from nltk>=3.1->textblob) (4.66.4)\n",
            "[nltk_data] Downloading package brown to /root/nltk_data...\n",
            "[nltk_data]   Unzipping corpora/brown.zip.\n",
            "[nltk_data] Downloading package punkt to /root/nltk_data...\n",
            "[nltk_data]   Unzipping tokenizers/punkt.zip.\n",
            "[nltk_data] Downloading package wordnet to /root/nltk_data...\n",
            "[nltk_data]   Package wordnet is already up-to-date!\n",
            "[nltk_data] Downloading package averaged_perceptron_tagger to\n",
            "[nltk_data]     /root/nltk_data...\n",
            "[nltk_data]   Unzipping taggers/averaged_perceptron_tagger.zip.\n",
            "[nltk_data] Downloading package conll2000 to /root/nltk_data...\n",
            "[nltk_data]   Unzipping corpora/conll2000.zip.\n",
            "[nltk_data] Downloading package movie_reviews to /root/nltk_data...\n",
            "[nltk_data]   Unzipping corpora/movie_reviews.zip.\n",
            "Finished.\n"
          ]
        }
      ]
    },
    {
      "cell_type": "code",
      "execution_count": null,
      "metadata": {
        "id": "sl7-2a-c1ZmA"
      },
      "outputs": [],
      "source": [
        "import pandas as pd\n",
        "from textblob import TextBlob\n",
        "from sklearn.model_selection import train_test_split\n",
        "from tensorflow.keras.models import Sequential\n",
        "from tensorflow.keras.layers import Embedding, Conv1D, MaxPooling1D, LSTM, Bidirectional, Dense, GlobalMaxPooling1D, Dropout\n",
        "from tensorflow.keras.optimizers import Adam\n",
        "from tensorflow.keras.preprocessing.text import Tokenizer\n",
        "from tensorflow.keras.preprocessing.sequence import pad_sequences\n",
        "from sklearn.preprocessing import LabelEncoder"
      ]
    },
    {
      "cell_type": "code",
      "execution_count": null,
      "metadata": {
        "id": "CReyGEV35PsA"
      },
      "outputs": [],
      "source": [
        "file_path = '/content/drive/Shareddrives/CPE313/Yelp_AcademicDataset/dataset_finals.csv'\n",
        "df = pd.read_csv(file_path)"
      ]
    },
    {
      "cell_type": "code",
      "source": [
        "df['cleanText'] = df['cleanText'].astype(str).fillna('')"
      ],
      "metadata": {
        "id": "60V8DTDiADqj"
      },
      "execution_count": null,
      "outputs": []
    },
    {
      "cell_type": "code",
      "execution_count": null,
      "metadata": {
        "id": "05ZKJxSA5zlC"
      },
      "outputs": [],
      "source": [
        "def get_sentiment_label(review):\n",
        "    analysis = TextBlob(review)\n",
        "    if analysis.sentiment.polarity > 0.1:\n",
        "        return 'positive'\n",
        "    elif analysis.sentiment.polarity < -0.1:\n",
        "        return 'negative'\n",
        "    else:\n",
        "        return 'neutral'"
      ]
    },
    {
      "cell_type": "code",
      "source": [
        "df['sentiment'] = df['cleanText'].apply(get_sentiment_label)"
      ],
      "metadata": {
        "id": "HWyqkvBxyryQ"
      },
      "execution_count": null,
      "outputs": []
    },
    {
      "cell_type": "code",
      "source": [
        "df['sentiment'].value_counts()"
      ],
      "metadata": {
        "colab": {
          "base_uri": "https://localhost:8080/"
        },
        "id": "fFxYREx2v9mA",
        "outputId": "82bdaa23-832f-4851-f733-210b26ebd7c6"
      },
      "execution_count": null,
      "outputs": [
        {
          "output_type": "execute_result",
          "data": {
            "text/plain": [
              "sentiment\n",
              "positive    79608\n",
              "neutral     14988\n",
              "negative     5404\n",
              "Name: count, dtype: int64"
            ]
          },
          "metadata": {},
          "execution_count": 76
        }
      ]
    },
    {
      "cell_type": "code",
      "source": [
        "df.head()"
      ],
      "metadata": {
        "colab": {
          "base_uri": "https://localhost:8080/",
          "height": 694
        },
        "id": "JTj5LXZovlAP",
        "outputId": "15abbe37-83c5-433c-ca78-c92ae17e81e3"
      },
      "execution_count": null,
      "outputs": [
        {
          "output_type": "execute_result",
          "data": {
            "text/plain": [
              "                review_id                 user_id             business_id  \\\n",
              "0  KU_O5udG6zpxOg-VcAEodg  mh_-eMZ6K5RLWhZyISBhwA  XQfwVwDr-v0ZS3_CbbE5Xw   \n",
              "1  BiTunyQ73aT9WBnpR9DZGw  OyoGAe7OKpv6SyGZT5g77Q  7ATYjTIgM3jUlt4UM3IypQ   \n",
              "2  saUsX_uimxRlCVr67Z4Jig  8g_iMtfSiwikVnbP2etR0A  YjUWPpI6HXG530lwP-fb2A   \n",
              "3  AqPFMleE6RsU23_auESxiA  _7bHUi9Uuf5__HHc_Q8guQ  kxX2SOes4o-D3ZQBkiMRfA   \n",
              "4  Sx8TMOWLNuJBWer-0pcmoA  bcjbaE6dDog4jkNY91ncLQ  e4Vwtrqf-wpJfwesgvdgxQ   \n",
              "\n",
              "   stars  useful  funny  cool  \\\n",
              "0      3       0      0     0   \n",
              "1      5       1      0     1   \n",
              "2      3       0      0     0   \n",
              "3      5       1      0     1   \n",
              "4      4       1      0     1   \n",
              "\n",
              "                                                text                 date  \\\n",
              "0  If you decide to eat here, just be aware it is...  2018-07-07 22:09:11   \n",
              "1  I've taken a lot of spin classes over the year...  2012-01-03 15:28:18   \n",
              "2  Family diner. Had the buffet. Eclectic assortm...  2014-02-05 20:30:30   \n",
              "3  Wow!  Yummy, different,  delicious.   Our favo...  2015-01-04 00:01:03   \n",
              "4  Cute interior and owner (?) gave us tour of up...  2017-01-14 20:54:15   \n",
              "\n",
              "                                           cleanText sentiment  \n",
              "0  decide eat aware going take hours beginning en...  positive  \n",
              "1  taken lot spin classes years nothing compares ...  positive  \n",
              "2  family diner buffet eclectic assortment large ...  positive  \n",
              "3  wow yummy different delicious favorite lamb cu...  positive  \n",
              "4  cute interior owner gave tour upcoming patio r...  positive  "
            ],
            "text/html": [
              "\n",
              "  <div id=\"df-1c7fc82d-7a02-4532-8bb5-3ea0ad6f9789\" class=\"colab-df-container\">\n",
              "    <div>\n",
              "<style scoped>\n",
              "    .dataframe tbody tr th:only-of-type {\n",
              "        vertical-align: middle;\n",
              "    }\n",
              "\n",
              "    .dataframe tbody tr th {\n",
              "        vertical-align: top;\n",
              "    }\n",
              "\n",
              "    .dataframe thead th {\n",
              "        text-align: right;\n",
              "    }\n",
              "</style>\n",
              "<table border=\"1\" class=\"dataframe\">\n",
              "  <thead>\n",
              "    <tr style=\"text-align: right;\">\n",
              "      <th></th>\n",
              "      <th>review_id</th>\n",
              "      <th>user_id</th>\n",
              "      <th>business_id</th>\n",
              "      <th>stars</th>\n",
              "      <th>useful</th>\n",
              "      <th>funny</th>\n",
              "      <th>cool</th>\n",
              "      <th>text</th>\n",
              "      <th>date</th>\n",
              "      <th>cleanText</th>\n",
              "      <th>sentiment</th>\n",
              "    </tr>\n",
              "  </thead>\n",
              "  <tbody>\n",
              "    <tr>\n",
              "      <th>0</th>\n",
              "      <td>KU_O5udG6zpxOg-VcAEodg</td>\n",
              "      <td>mh_-eMZ6K5RLWhZyISBhwA</td>\n",
              "      <td>XQfwVwDr-v0ZS3_CbbE5Xw</td>\n",
              "      <td>3</td>\n",
              "      <td>0</td>\n",
              "      <td>0</td>\n",
              "      <td>0</td>\n",
              "      <td>If you decide to eat here, just be aware it is...</td>\n",
              "      <td>2018-07-07 22:09:11</td>\n",
              "      <td>decide eat aware going take hours beginning en...</td>\n",
              "      <td>positive</td>\n",
              "    </tr>\n",
              "    <tr>\n",
              "      <th>1</th>\n",
              "      <td>BiTunyQ73aT9WBnpR9DZGw</td>\n",
              "      <td>OyoGAe7OKpv6SyGZT5g77Q</td>\n",
              "      <td>7ATYjTIgM3jUlt4UM3IypQ</td>\n",
              "      <td>5</td>\n",
              "      <td>1</td>\n",
              "      <td>0</td>\n",
              "      <td>1</td>\n",
              "      <td>I've taken a lot of spin classes over the year...</td>\n",
              "      <td>2012-01-03 15:28:18</td>\n",
              "      <td>taken lot spin classes years nothing compares ...</td>\n",
              "      <td>positive</td>\n",
              "    </tr>\n",
              "    <tr>\n",
              "      <th>2</th>\n",
              "      <td>saUsX_uimxRlCVr67Z4Jig</td>\n",
              "      <td>8g_iMtfSiwikVnbP2etR0A</td>\n",
              "      <td>YjUWPpI6HXG530lwP-fb2A</td>\n",
              "      <td>3</td>\n",
              "      <td>0</td>\n",
              "      <td>0</td>\n",
              "      <td>0</td>\n",
              "      <td>Family diner. Had the buffet. Eclectic assortm...</td>\n",
              "      <td>2014-02-05 20:30:30</td>\n",
              "      <td>family diner buffet eclectic assortment large ...</td>\n",
              "      <td>positive</td>\n",
              "    </tr>\n",
              "    <tr>\n",
              "      <th>3</th>\n",
              "      <td>AqPFMleE6RsU23_auESxiA</td>\n",
              "      <td>_7bHUi9Uuf5__HHc_Q8guQ</td>\n",
              "      <td>kxX2SOes4o-D3ZQBkiMRfA</td>\n",
              "      <td>5</td>\n",
              "      <td>1</td>\n",
              "      <td>0</td>\n",
              "      <td>1</td>\n",
              "      <td>Wow!  Yummy, different,  delicious.   Our favo...</td>\n",
              "      <td>2015-01-04 00:01:03</td>\n",
              "      <td>wow yummy different delicious favorite lamb cu...</td>\n",
              "      <td>positive</td>\n",
              "    </tr>\n",
              "    <tr>\n",
              "      <th>4</th>\n",
              "      <td>Sx8TMOWLNuJBWer-0pcmoA</td>\n",
              "      <td>bcjbaE6dDog4jkNY91ncLQ</td>\n",
              "      <td>e4Vwtrqf-wpJfwesgvdgxQ</td>\n",
              "      <td>4</td>\n",
              "      <td>1</td>\n",
              "      <td>0</td>\n",
              "      <td>1</td>\n",
              "      <td>Cute interior and owner (?) gave us tour of up...</td>\n",
              "      <td>2017-01-14 20:54:15</td>\n",
              "      <td>cute interior owner gave tour upcoming patio r...</td>\n",
              "      <td>positive</td>\n",
              "    </tr>\n",
              "  </tbody>\n",
              "</table>\n",
              "</div>\n",
              "    <div class=\"colab-df-buttons\">\n",
              "\n",
              "  <div class=\"colab-df-container\">\n",
              "    <button class=\"colab-df-convert\" onclick=\"convertToInteractive('df-1c7fc82d-7a02-4532-8bb5-3ea0ad6f9789')\"\n",
              "            title=\"Convert this dataframe to an interactive table.\"\n",
              "            style=\"display:none;\">\n",
              "\n",
              "  <svg xmlns=\"http://www.w3.org/2000/svg\" height=\"24px\" viewBox=\"0 -960 960 960\">\n",
              "    <path d=\"M120-120v-720h720v720H120Zm60-500h600v-160H180v160Zm220 220h160v-160H400v160Zm0 220h160v-160H400v160ZM180-400h160v-160H180v160Zm440 0h160v-160H620v160ZM180-180h160v-160H180v160Zm440 0h160v-160H620v160Z\"/>\n",
              "  </svg>\n",
              "    </button>\n",
              "\n",
              "  <style>\n",
              "    .colab-df-container {\n",
              "      display:flex;\n",
              "      gap: 12px;\n",
              "    }\n",
              "\n",
              "    .colab-df-convert {\n",
              "      background-color: #E8F0FE;\n",
              "      border: none;\n",
              "      border-radius: 50%;\n",
              "      cursor: pointer;\n",
              "      display: none;\n",
              "      fill: #1967D2;\n",
              "      height: 32px;\n",
              "      padding: 0 0 0 0;\n",
              "      width: 32px;\n",
              "    }\n",
              "\n",
              "    .colab-df-convert:hover {\n",
              "      background-color: #E2EBFA;\n",
              "      box-shadow: 0px 1px 2px rgba(60, 64, 67, 0.3), 0px 1px 3px 1px rgba(60, 64, 67, 0.15);\n",
              "      fill: #174EA6;\n",
              "    }\n",
              "\n",
              "    .colab-df-buttons div {\n",
              "      margin-bottom: 4px;\n",
              "    }\n",
              "\n",
              "    [theme=dark] .colab-df-convert {\n",
              "      background-color: #3B4455;\n",
              "      fill: #D2E3FC;\n",
              "    }\n",
              "\n",
              "    [theme=dark] .colab-df-convert:hover {\n",
              "      background-color: #434B5C;\n",
              "      box-shadow: 0px 1px 3px 1px rgba(0, 0, 0, 0.15);\n",
              "      filter: drop-shadow(0px 1px 2px rgba(0, 0, 0, 0.3));\n",
              "      fill: #FFFFFF;\n",
              "    }\n",
              "  </style>\n",
              "\n",
              "    <script>\n",
              "      const buttonEl =\n",
              "        document.querySelector('#df-1c7fc82d-7a02-4532-8bb5-3ea0ad6f9789 button.colab-df-convert');\n",
              "      buttonEl.style.display =\n",
              "        google.colab.kernel.accessAllowed ? 'block' : 'none';\n",
              "\n",
              "      async function convertToInteractive(key) {\n",
              "        const element = document.querySelector('#df-1c7fc82d-7a02-4532-8bb5-3ea0ad6f9789');\n",
              "        const dataTable =\n",
              "          await google.colab.kernel.invokeFunction('convertToInteractive',\n",
              "                                                    [key], {});\n",
              "        if (!dataTable) return;\n",
              "\n",
              "        const docLinkHtml = 'Like what you see? Visit the ' +\n",
              "          '<a target=\"_blank\" href=https://colab.research.google.com/notebooks/data_table.ipynb>data table notebook</a>'\n",
              "          + ' to learn more about interactive tables.';\n",
              "        element.innerHTML = '';\n",
              "        dataTable['output_type'] = 'display_data';\n",
              "        await google.colab.output.renderOutput(dataTable, element);\n",
              "        const docLink = document.createElement('div');\n",
              "        docLink.innerHTML = docLinkHtml;\n",
              "        element.appendChild(docLink);\n",
              "      }\n",
              "    </script>\n",
              "  </div>\n",
              "\n",
              "\n",
              "<div id=\"df-f219222c-c9bd-4ab2-bb48-39dcb3a81880\">\n",
              "  <button class=\"colab-df-quickchart\" onclick=\"quickchart('df-f219222c-c9bd-4ab2-bb48-39dcb3a81880')\"\n",
              "            title=\"Suggest charts\"\n",
              "            style=\"display:none;\">\n",
              "\n",
              "<svg xmlns=\"http://www.w3.org/2000/svg\" height=\"24px\"viewBox=\"0 0 24 24\"\n",
              "     width=\"24px\">\n",
              "    <g>\n",
              "        <path d=\"M19 3H5c-1.1 0-2 .9-2 2v14c0 1.1.9 2 2 2h14c1.1 0 2-.9 2-2V5c0-1.1-.9-2-2-2zM9 17H7v-7h2v7zm4 0h-2V7h2v10zm4 0h-2v-4h2v4z\"/>\n",
              "    </g>\n",
              "</svg>\n",
              "  </button>\n",
              "\n",
              "<style>\n",
              "  .colab-df-quickchart {\n",
              "      --bg-color: #E8F0FE;\n",
              "      --fill-color: #1967D2;\n",
              "      --hover-bg-color: #E2EBFA;\n",
              "      --hover-fill-color: #174EA6;\n",
              "      --disabled-fill-color: #AAA;\n",
              "      --disabled-bg-color: #DDD;\n",
              "  }\n",
              "\n",
              "  [theme=dark] .colab-df-quickchart {\n",
              "      --bg-color: #3B4455;\n",
              "      --fill-color: #D2E3FC;\n",
              "      --hover-bg-color: #434B5C;\n",
              "      --hover-fill-color: #FFFFFF;\n",
              "      --disabled-bg-color: #3B4455;\n",
              "      --disabled-fill-color: #666;\n",
              "  }\n",
              "\n",
              "  .colab-df-quickchart {\n",
              "    background-color: var(--bg-color);\n",
              "    border: none;\n",
              "    border-radius: 50%;\n",
              "    cursor: pointer;\n",
              "    display: none;\n",
              "    fill: var(--fill-color);\n",
              "    height: 32px;\n",
              "    padding: 0;\n",
              "    width: 32px;\n",
              "  }\n",
              "\n",
              "  .colab-df-quickchart:hover {\n",
              "    background-color: var(--hover-bg-color);\n",
              "    box-shadow: 0 1px 2px rgba(60, 64, 67, 0.3), 0 1px 3px 1px rgba(60, 64, 67, 0.15);\n",
              "    fill: var(--button-hover-fill-color);\n",
              "  }\n",
              "\n",
              "  .colab-df-quickchart-complete:disabled,\n",
              "  .colab-df-quickchart-complete:disabled:hover {\n",
              "    background-color: var(--disabled-bg-color);\n",
              "    fill: var(--disabled-fill-color);\n",
              "    box-shadow: none;\n",
              "  }\n",
              "\n",
              "  .colab-df-spinner {\n",
              "    border: 2px solid var(--fill-color);\n",
              "    border-color: transparent;\n",
              "    border-bottom-color: var(--fill-color);\n",
              "    animation:\n",
              "      spin 1s steps(1) infinite;\n",
              "  }\n",
              "\n",
              "  @keyframes spin {\n",
              "    0% {\n",
              "      border-color: transparent;\n",
              "      border-bottom-color: var(--fill-color);\n",
              "      border-left-color: var(--fill-color);\n",
              "    }\n",
              "    20% {\n",
              "      border-color: transparent;\n",
              "      border-left-color: var(--fill-color);\n",
              "      border-top-color: var(--fill-color);\n",
              "    }\n",
              "    30% {\n",
              "      border-color: transparent;\n",
              "      border-left-color: var(--fill-color);\n",
              "      border-top-color: var(--fill-color);\n",
              "      border-right-color: var(--fill-color);\n",
              "    }\n",
              "    40% {\n",
              "      border-color: transparent;\n",
              "      border-right-color: var(--fill-color);\n",
              "      border-top-color: var(--fill-color);\n",
              "    }\n",
              "    60% {\n",
              "      border-color: transparent;\n",
              "      border-right-color: var(--fill-color);\n",
              "    }\n",
              "    80% {\n",
              "      border-color: transparent;\n",
              "      border-right-color: var(--fill-color);\n",
              "      border-bottom-color: var(--fill-color);\n",
              "    }\n",
              "    90% {\n",
              "      border-color: transparent;\n",
              "      border-bottom-color: var(--fill-color);\n",
              "    }\n",
              "  }\n",
              "</style>\n",
              "\n",
              "  <script>\n",
              "    async function quickchart(key) {\n",
              "      const quickchartButtonEl =\n",
              "        document.querySelector('#' + key + ' button');\n",
              "      quickchartButtonEl.disabled = true;  // To prevent multiple clicks.\n",
              "      quickchartButtonEl.classList.add('colab-df-spinner');\n",
              "      try {\n",
              "        const charts = await google.colab.kernel.invokeFunction(\n",
              "            'suggestCharts', [key], {});\n",
              "      } catch (error) {\n",
              "        console.error('Error during call to suggestCharts:', error);\n",
              "      }\n",
              "      quickchartButtonEl.classList.remove('colab-df-spinner');\n",
              "      quickchartButtonEl.classList.add('colab-df-quickchart-complete');\n",
              "    }\n",
              "    (() => {\n",
              "      let quickchartButtonEl =\n",
              "        document.querySelector('#df-f219222c-c9bd-4ab2-bb48-39dcb3a81880 button');\n",
              "      quickchartButtonEl.style.display =\n",
              "        google.colab.kernel.accessAllowed ? 'block' : 'none';\n",
              "    })();\n",
              "  </script>\n",
              "</div>\n",
              "    </div>\n",
              "  </div>\n"
            ],
            "application/vnd.google.colaboratory.intrinsic+json": {
              "type": "dataframe",
              "variable_name": "df",
              "summary": "{\n  \"name\": \"df\",\n  \"rows\": 100000,\n  \"fields\": [\n    {\n      \"column\": \"review_id\",\n      \"properties\": {\n        \"dtype\": \"string\",\n        \"num_unique_values\": 100000,\n        \"samples\": [\n          \"MhKsttHvo3deXn4qM0-PFw\",\n          \"oakWLs2eYhIHA0KucrRaEA\",\n          \"U5QAKIYquWGtZPqkw52wTQ\"\n        ],\n        \"semantic_type\": \"\",\n        \"description\": \"\"\n      }\n    },\n    {\n      \"column\": \"user_id\",\n      \"properties\": {\n        \"dtype\": \"string\",\n        \"num_unique_values\": 79345,\n        \"samples\": [\n          \"IRIyx7M0J33nvBa_4NNnQg\",\n          \"J63IrZx0f_ZwrG1ha2Aypw\",\n          \"he8SGN5rPYsPh_bAPkzwEw\"\n        ],\n        \"semantic_type\": \"\",\n        \"description\": \"\"\n      }\n    },\n    {\n      \"column\": \"business_id\",\n      \"properties\": {\n        \"dtype\": \"category\",\n        \"num_unique_values\": 9973,\n        \"samples\": [\n          \"ogFDedRYxxe9LQeCo3VH7w\",\n          \"zTGzoge9b_U1m7lExiHqgw\",\n          \"RY1qY03QfETdrGWCEOugVw\"\n        ],\n        \"semantic_type\": \"\",\n        \"description\": \"\"\n      }\n    },\n    {\n      \"column\": \"stars\",\n      \"properties\": {\n        \"dtype\": \"number\",\n        \"std\": 1,\n        \"min\": 1,\n        \"max\": 5,\n        \"num_unique_values\": 5,\n        \"samples\": [\n          5,\n          2,\n          4\n        ],\n        \"semantic_type\": \"\",\n        \"description\": \"\"\n      }\n    },\n    {\n      \"column\": \"useful\",\n      \"properties\": {\n        \"dtype\": \"number\",\n        \"std\": 2,\n        \"min\": 0,\n        \"max\": 320,\n        \"num_unique_values\": 52,\n        \"samples\": [\n          19,\n          26,\n          38\n        ],\n        \"semantic_type\": \"\",\n        \"description\": \"\"\n      }\n    },\n    {\n      \"column\": \"funny\",\n      \"properties\": {\n        \"dtype\": \"number\",\n        \"std\": 1,\n        \"min\": 0,\n        \"max\": 98,\n        \"num_unique_values\": 34,\n        \"samples\": [\n          8,\n          21,\n          27\n        ],\n        \"semantic_type\": \"\",\n        \"description\": \"\"\n      }\n    },\n    {\n      \"column\": \"cool\",\n      \"properties\": {\n        \"dtype\": \"number\",\n        \"std\": 1,\n        \"min\": 0,\n        \"max\": 49,\n        \"num_unique_values\": 36,\n        \"samples\": [\n          20,\n          10,\n          25\n        ],\n        \"semantic_type\": \"\",\n        \"description\": \"\"\n      }\n    },\n    {\n      \"column\": \"text\",\n      \"properties\": {\n        \"dtype\": \"string\",\n        \"num_unique_values\": 99964,\n        \"samples\": [\n          \"We spent 4 nights here in a tent at waterside in mid-April 2015 with our 2 daughters age 10 & 13 and 2 dogs. The campground seemed well staffed and clean. Very dog friendly. There are only 3 tent sites available with water and electric. The only complaint I have is that our site had no shade at all. We would sit in the shade at a neighboring site that wasn't rented. The bathroom & showers in the rec building were very clean. One shower was out of order but I was always by myself in there so I had my pick. There is laundry in there as well, all visible from our site. The pool & hot tub area is nice, the bathrooms not as nice as the rec building. There are peddle cars for kids to rent. They have several different wifi networks but we couldn't get any of them to work with both Android & Apple devices.\",\n          \"Finally a casino in Arizona that appreciates Blackjack players!!! \\n\\nWith a Player's Club that is second to none, there is, in my opinion, no other hotel/casino combo in Arizona that can match Casino del Sol.  \\n\\nThe property itself is beautiful.  The hotel lobby is a welcome retreat from the casino floor.  Guest rooms are spacious and well-appointed.\\n\\nI rarely play slots but from I could see walking around, they seem to have better than average payouts.\\n\\nI love Blackjack and if you're willing to bet at the higher limit tables ($25 minimum) you will be rewarded with 3-deck shoes; which narrows the casino edge.\\n\\nRestaurants are good.  I like Abuelita's (quick & tasty Mexican options.  Festa Buffet is great option.  Ume was decent as well.\\n\\nEven though I live in Phoenix, I'd rather make the drive to Tucson and play in a casino that appreciates and rewards me for my play.\",\n          \"One of the top tier spa's in Reno. When I stayed at other suites in the area, they were trash compared to this gem. The Tuscany rooms cannot be beat! Courteous staff and no 2 hrs waiting in line to check in\"\n        ],\n        \"semantic_type\": \"\",\n        \"description\": \"\"\n      }\n    },\n    {\n      \"column\": \"date\",\n      \"properties\": {\n        \"dtype\": \"object\",\n        \"num_unique_values\": 99906,\n        \"samples\": [\n          \"2017-12-03 18:58:21\",\n          \"2016-08-05 17:31:35\",\n          \"2014-12-21 13:19:08\"\n        ],\n        \"semantic_type\": \"\",\n        \"description\": \"\"\n      }\n    },\n    {\n      \"column\": \"cleanText\",\n      \"properties\": {\n        \"dtype\": \"string\",\n        \"num_unique_values\": 99953,\n        \"samples\": [\n          \"know high expectations farmers market guess thought would similar find beach cities san diego little shocked small one bigger farmers markets guess still expectations location really nice also stop state street additional outing however fan group homeless people beggars walk enter market terms vendors typical fruits veggies eggs meat flowers etc fan pie given sample way market\",\n          \"went birthday dinner mom daughter wonderful time staff manager accommodating friendly food good fast would like try date night hubby enjoy drinks entertainment hade regular gyro one andouille sausage great\",\n          \"place busy lunch much dinner food always great service reliable good wine shop next door perfect place stop dinner\"\n        ],\n        \"semantic_type\": \"\",\n        \"description\": \"\"\n      }\n    },\n    {\n      \"column\": \"sentiment\",\n      \"properties\": {\n        \"dtype\": \"category\",\n        \"num_unique_values\": 3,\n        \"samples\": [\n          \"positive\",\n          \"neutral\",\n          \"negative\"\n        ],\n        \"semantic_type\": \"\",\n        \"description\": \"\"\n      }\n    }\n  ]\n}"
            }
          },
          "metadata": {},
          "execution_count": 75
        }
      ]
    },
    {
      "cell_type": "code",
      "source": [
        "file_path = '/content/drive/Shareddrives/CPE313/Yelp_AcademicDataset/sentiment_dataset.csv'\n",
        "df.to_csv(file_path, index=False)"
      ],
      "metadata": {
        "id": "jD69aZICwzJa"
      },
      "execution_count": null,
      "outputs": []
    },
    {
      "cell_type": "code",
      "execution_count": null,
      "metadata": {
        "id": "w5b_luPQ8O8K"
      },
      "outputs": [],
      "source": [
        "X = df['cleanText']\n",
        "y = df['sentiment']\n",
        "\n",
        "X_train, X_test, y_train, y_test = train_test_split(X, y, test_size=0.2, random_state=42)"
      ]
    },
    {
      "cell_type": "code",
      "execution_count": null,
      "metadata": {
        "id": "t7Rz8mLU6Uob"
      },
      "outputs": [],
      "source": [
        "vocab_size = 10000\n",
        "max_length = 100\n",
        "embedding_dim = 50"
      ]
    },
    {
      "cell_type": "code",
      "execution_count": null,
      "metadata": {
        "id": "vTn79SUw8MtZ"
      },
      "outputs": [],
      "source": [
        "tokenizer = Tokenizer(num_words=vocab_size, oov_token='<OOV>')\n",
        "tokenizer.fit_on_texts(X_train)\n",
        "X_train_sequences = tokenizer.texts_to_sequences(X_train)\n",
        "X_test_sequences = tokenizer.texts_to_sequences(X_test)"
      ]
    },
    {
      "cell_type": "code",
      "source": [
        "X_train_padded = pad_sequences(X_train_sequences, maxlen=max_length, padding='post', truncating='post')\n",
        "X_test_padded = pad_sequences(X_test_sequences, maxlen=max_length, padding='post', truncating='post')"
      ],
      "metadata": {
        "id": "KFmgLqDx3_j0"
      },
      "execution_count": null,
      "outputs": []
    },
    {
      "cell_type": "code",
      "source": [
        "label_encoder = LabelEncoder()\n",
        "y_train_encoded = label_encoder.fit_transform(y_train)\n",
        "y_test_encoded = label_encoder.transform(y_test)"
      ],
      "metadata": {
        "id": "2ZiJb5O448-x"
      },
      "execution_count": null,
      "outputs": []
    },
    {
      "cell_type": "markdown",
      "metadata": {
        "id": "9iLETl4KXGnE"
      },
      "source": [
        "# CNN Model"
      ]
    },
    {
      "cell_type": "code",
      "execution_count": null,
      "metadata": {
        "id": "8OdxPiba8l5q"
      },
      "outputs": [],
      "source": [
        "model_cnn = Sequential([\n",
        "    Embedding(input_dim=vocab_size, output_dim=embedding_dim, input_length=max_length),\n",
        "    Conv1D(filters=128, kernel_size=5, activation='relu'),\n",
        "    MaxPooling1D(pool_size=2),\n",
        "    GlobalMaxPooling1D(),\n",
        "    Dense(64, activation='relu'),\n",
        "    Dense(3, activation='softmax')\n",
        "])"
      ]
    },
    {
      "cell_type": "code",
      "source": [
        "model_cnn.compile(optimizer=Adam(learning_rate=0.001), loss='sparse_categorical_crossentropy', metrics=['accuracy'])"
      ],
      "metadata": {
        "id": "Sc6ka-4l7TFD"
      },
      "execution_count": null,
      "outputs": []
    },
    {
      "cell_type": "code",
      "execution_count": null,
      "metadata": {
        "colab": {
          "base_uri": "https://localhost:8080/"
        },
        "id": "-FrzGTXC8nRK",
        "outputId": "05163761-d767-4162-979c-95e2e84cae5b"
      },
      "outputs": [
        {
          "output_type": "stream",
          "name": "stdout",
          "text": [
            "Epoch 1/10\n",
            "2500/2500 [==============================] - 90s 35ms/step - loss: 0.2742 - accuracy: 0.8854 - val_loss: 0.2167 - val_accuracy: 0.9086\n",
            "Epoch 2/10\n",
            "2500/2500 [==============================] - 83s 33ms/step - loss: 0.1419 - accuracy: 0.9427 - val_loss: 0.2086 - val_accuracy: 0.9160\n",
            "Epoch 3/10\n",
            "2500/2500 [==============================] - 85s 34ms/step - loss: 0.0604 - accuracy: 0.9780 - val_loss: 0.2722 - val_accuracy: 0.9130\n",
            "Epoch 4/10\n",
            "2500/2500 [==============================] - 80s 32ms/step - loss: 0.0294 - accuracy: 0.9896 - val_loss: 0.4315 - val_accuracy: 0.9082\n",
            "Epoch 5/10\n",
            "2500/2500 [==============================] - 80s 32ms/step - loss: 0.0242 - accuracy: 0.9912 - val_loss: 0.4271 - val_accuracy: 0.9090\n",
            "Epoch 6/10\n",
            "2500/2500 [==============================] - 84s 34ms/step - loss: 0.0180 - accuracy: 0.9939 - val_loss: 0.4361 - val_accuracy: 0.9051\n",
            "Epoch 7/10\n",
            "2500/2500 [==============================] - 81s 32ms/step - loss: 0.0150 - accuracy: 0.9946 - val_loss: 0.4949 - val_accuracy: 0.9107\n",
            "Epoch 8/10\n",
            "2500/2500 [==============================] - 83s 33ms/step - loss: 0.0134 - accuracy: 0.9954 - val_loss: 0.5185 - val_accuracy: 0.9104\n",
            "Epoch 9/10\n",
            "2500/2500 [==============================] - 82s 33ms/step - loss: 0.0117 - accuracy: 0.9958 - val_loss: 0.5549 - val_accuracy: 0.9133\n",
            "Epoch 10/10\n",
            "2500/2500 [==============================] - 83s 33ms/step - loss: 0.0100 - accuracy: 0.9965 - val_loss: 0.5562 - val_accuracy: 0.9119\n"
          ]
        }
      ],
      "source": [
        "history_cnn = model_cnn.fit(X_train_padded, y_train_encoded, epochs=10, batch_size=32, validation_data=(X_test_padded, y_test_encoded), verbose=1)"
      ]
    },
    {
      "cell_type": "code",
      "execution_count": null,
      "metadata": {
        "colab": {
          "base_uri": "https://localhost:8080/"
        },
        "id": "6uoL13o58o9y",
        "outputId": "83dfb83a-bef4-47f7-8fd4-11c28d3568be"
      },
      "outputs": [
        {
          "output_type": "stream",
          "name": "stdout",
          "text": [
            "625/625 [==============================] - 5s 8ms/step - loss: 0.5562 - accuracy: 0.9119\n",
            "CNN Test Accuracy: 0.9119499921798706\n"
          ]
        }
      ],
      "source": [
        "# Evaluate model\n",
        "loss, accuracy = model_cnn.evaluate(X_test_padded, y_test_encoded)\n",
        "print(f'CNN Test Accuracy: {accuracy}')"
      ]
    },
    {
      "cell_type": "code",
      "source": [
        "y_pred_cnn = model_cnn.predict(X_test_padded)\n",
        "y_pred_cnn_labels = y_pred_cnn.argmax(axis=1)"
      ],
      "metadata": {
        "colab": {
          "base_uri": "https://localhost:8080/"
        },
        "id": "vQq6XroD_9Uy",
        "outputId": "9726fc65-6487-4cf1-ee92-d72cdbf23bec"
      },
      "execution_count": 85,
      "outputs": [
        {
          "output_type": "stream",
          "name": "stdout",
          "text": [
            "625/625 [==============================] - 10s 15ms/step\n"
          ]
        }
      ]
    },
    {
      "cell_type": "markdown",
      "metadata": {
        "id": "1xIil5yx6HrZ"
      },
      "source": [
        "#LSTM Model"
      ]
    },
    {
      "cell_type": "code",
      "execution_count": null,
      "metadata": {
        "id": "M0piWQHS6ZN_"
      },
      "outputs": [],
      "source": [
        "model_lstm = Sequential([\n",
        "    Embedding(input_dim=vocab_size, output_dim=embedding_dim, input_length=max_length),\n",
        "    LSTM(units=64, return_sequences=True),\n",
        "    Dropout(0.5),\n",
        "    LSTM(units=64),\n",
        "    Dense(64, activation='relu'),\n",
        "    Dense(3, activation='softmax')\n",
        "])"
      ]
    },
    {
      "cell_type": "code",
      "execution_count": null,
      "metadata": {
        "id": "g_e--C1U6cEb"
      },
      "outputs": [],
      "source": [
        "model_lstm.compile(optimizer=Adam(learning_rate=0.001), loss='sparse_categorical_crossentropy', metrics=['accuracy'])"
      ]
    },
    {
      "cell_type": "code",
      "execution_count": null,
      "metadata": {
        "colab": {
          "base_uri": "https://localhost:8080/"
        },
        "id": "auZ63shK6jHn",
        "outputId": "9b5a2417-d99c-4e86-ada9-4effaee994f7"
      },
      "outputs": [
        {
          "output_type": "stream",
          "name": "stdout",
          "text": [
            "Epoch 1/10\n",
            "2500/2500 [==============================] - 356s 141ms/step - loss: 0.5842 - accuracy: 0.7971 - val_loss: 0.5838 - val_accuracy: 0.7969\n",
            "Epoch 2/10\n",
            "2500/2500 [==============================] - 351s 140ms/step - loss: 0.6064 - accuracy: 0.7959 - val_loss: 0.4438 - val_accuracy: 0.8175\n",
            "Epoch 3/10\n",
            "2500/2500 [==============================] - 347s 139ms/step - loss: 0.2423 - accuracy: 0.8989 - val_loss: 0.1670 - val_accuracy: 0.9347\n",
            "Epoch 4/10\n",
            "2500/2500 [==============================] - 354s 141ms/step - loss: 0.1368 - accuracy: 0.9457 - val_loss: 0.1501 - val_accuracy: 0.9396\n",
            "Epoch 5/10\n",
            "2500/2500 [==============================] - 356s 142ms/step - loss: 0.1008 - accuracy: 0.9613 - val_loss: 0.1619 - val_accuracy: 0.9388\n",
            "Epoch 6/10\n",
            "2500/2500 [==============================] - 357s 143ms/step - loss: 0.0743 - accuracy: 0.9723 - val_loss: 0.1911 - val_accuracy: 0.9336\n",
            "Epoch 7/10\n",
            "2500/2500 [==============================] - 352s 141ms/step - loss: 0.0554 - accuracy: 0.9806 - val_loss: 0.2188 - val_accuracy: 0.9296\n",
            "Epoch 8/10\n",
            "2500/2500 [==============================] - 353s 141ms/step - loss: 0.0428 - accuracy: 0.9850 - val_loss: 0.3086 - val_accuracy: 0.9222\n",
            "Epoch 9/10\n",
            "2500/2500 [==============================] - 366s 146ms/step - loss: 0.0332 - accuracy: 0.9886 - val_loss: 0.2935 - val_accuracy: 0.9270\n",
            "Epoch 10/10\n",
            "2500/2500 [==============================] - 359s 144ms/step - loss: 0.0277 - accuracy: 0.9908 - val_loss: 0.3294 - val_accuracy: 0.9254\n"
          ]
        }
      ],
      "source": [
        "history_lstm = model_lstm.fit(X_train_padded, y_train_encoded, epochs=10, batch_size=32, validation_data=(X_test_padded, y_test_encoded), verbose=1)"
      ]
    },
    {
      "cell_type": "code",
      "source": [
        "loss_lstm, accuracy_lstm = model_lstm.evaluate(X_test_padded, y_test_encoded)\n",
        "print(f'LSTM Test Accuracy: {accuracy_lstm}')"
      ],
      "metadata": {
        "colab": {
          "base_uri": "https://localhost:8080/"
        },
        "id": "KIk3XVaAE87v",
        "outputId": "86b7f2a8-233a-4a6d-80a1-10ef35e8306a"
      },
      "execution_count": null,
      "outputs": [
        {
          "output_type": "stream",
          "name": "stdout",
          "text": [
            "625/625 [==============================] - 23s 37ms/step - loss: 0.3294 - accuracy: 0.9254\n",
            "LSTM Test Accuracy: 0.92535001039505\n"
          ]
        }
      ]
    },
    {
      "cell_type": "code",
      "source": [
        "y_pred_lstm = model_lstm.predict(X_test_padded)\n",
        "y_pred_lstm_labels = y_pred_lstm.argmax(axis=1)"
      ],
      "metadata": {
        "colab": {
          "base_uri": "https://localhost:8080/"
        },
        "id": "x7WY29Cy__VZ",
        "outputId": "19b44f70-69db-45fc-aa4f-4664fe045f6f"
      },
      "execution_count": 87,
      "outputs": [
        {
          "output_type": "stream",
          "name": "stdout",
          "text": [
            "625/625 [==============================] - 34s 50ms/step\n"
          ]
        }
      ]
    },
    {
      "cell_type": "markdown",
      "metadata": {
        "id": "cUrKL6YMBbgH"
      },
      "source": [
        "#Bidirectional LSTM Model"
      ]
    },
    {
      "cell_type": "code",
      "source": [
        "model_bidirectional_lstm = Sequential([\n",
        "    Embedding(input_dim=vocab_size, output_dim=embedding_dim, input_length=max_length),\n",
        "    Bidirectional(LSTM(units=64, return_sequences=True)),\n",
        "    Dropout(0.5),\n",
        "    Bidirectional(LSTM(units=64)),\n",
        "    Dense(64, activation='relu'),\n",
        "    Dense(3, activation='softmax')\n",
        "])"
      ],
      "metadata": {
        "id": "VIT3_8EBWEYv"
      },
      "execution_count": null,
      "outputs": []
    },
    {
      "cell_type": "code",
      "source": [
        "model_bidirectional_lstm.compile(optimizer=Adam(learning_rate=0.001), loss='sparse_categorical_crossentropy', metrics=['accuracy'])"
      ],
      "metadata": {
        "id": "1mRzLScDYzCC"
      },
      "execution_count": null,
      "outputs": []
    },
    {
      "cell_type": "code",
      "source": [
        "history_bidirectional_lstm = model_bidirectional_lstm.fit(X_train_padded, y_train_encoded, epochs=10, batch_size=32, validation_data=(X_test_padded, y_test_encoded), verbose=1)"
      ],
      "metadata": {
        "colab": {
          "base_uri": "https://localhost:8080/"
        },
        "id": "z0q-dJWRFl97",
        "outputId": "6a05ec8b-fd10-47a6-ef78-8c63c4698ab3"
      },
      "execution_count": null,
      "outputs": [
        {
          "output_type": "stream",
          "name": "stdout",
          "text": [
            "Epoch 1/10\n",
            "2500/2500 [==============================] - 722s 284ms/step - loss: 0.2683 - accuracy: 0.8886 - val_loss: 0.1925 - val_accuracy: 0.9195\n",
            "Epoch 2/10\n",
            "2500/2500 [==============================] - 692s 277ms/step - loss: 0.1466 - accuracy: 0.9404 - val_loss: 0.1825 - val_accuracy: 0.9269\n",
            "Epoch 3/10\n",
            "2500/2500 [==============================] - 691s 277ms/step - loss: 0.1067 - accuracy: 0.9585 - val_loss: 0.1749 - val_accuracy: 0.9331\n",
            "Epoch 4/10\n",
            "2500/2500 [==============================] - 643s 257ms/step - loss: 0.0810 - accuracy: 0.9689 - val_loss: 0.1919 - val_accuracy: 0.9309\n",
            "Epoch 5/10\n",
            "2500/2500 [==============================] - 689s 276ms/step - loss: 0.0613 - accuracy: 0.9769 - val_loss: 0.2113 - val_accuracy: 0.9246\n",
            "Epoch 6/10\n",
            "2500/2500 [==============================] - 739s 296ms/step - loss: 0.0488 - accuracy: 0.9822 - val_loss: 0.2476 - val_accuracy: 0.9253\n",
            "Epoch 7/10\n",
            "2500/2500 [==============================] - 659s 264ms/step - loss: 0.0362 - accuracy: 0.9877 - val_loss: 0.2990 - val_accuracy: 0.9196\n",
            "Epoch 8/10\n",
            "2500/2500 [==============================] - 706s 282ms/step - loss: 0.0288 - accuracy: 0.9900 - val_loss: 0.3099 - val_accuracy: 0.9231\n",
            "Epoch 9/10\n",
            "2500/2500 [==============================] - 647s 259ms/step - loss: 0.0233 - accuracy: 0.9923 - val_loss: 0.3813 - val_accuracy: 0.9164\n",
            "Epoch 10/10\n",
            "2500/2500 [==============================] - 656s 262ms/step - loss: 0.0205 - accuracy: 0.9935 - val_loss: 0.3426 - val_accuracy: 0.9192\n"
          ]
        }
      ]
    },
    {
      "cell_type": "code",
      "source": [
        "loss_bidirectional_lstm, accuracy_bidirectional_lstm = model_bidirectional_lstm.evaluate(X_test_padded, y_test_encoded)\n",
        "print(f'Bidirectional LSTM Test Accuracy: {accuracy_bidirectional_lstm}')"
      ],
      "metadata": {
        "colab": {
          "base_uri": "https://localhost:8080/"
        },
        "id": "j7ScyZ9LFo5V",
        "outputId": "b597a45b-04f9-44ae-b86b-3ba2d0c0c9bc"
      },
      "execution_count": null,
      "outputs": [
        {
          "output_type": "stream",
          "name": "stdout",
          "text": [
            "625/625 [==============================] - 54s 86ms/step - loss: 0.3426 - accuracy: 0.9192\n",
            "Bidirectional LSTM Test Accuracy: 0.9192000031471252\n"
          ]
        }
      ]
    },
    {
      "cell_type": "code",
      "source": [
        "y_pred_bidirectional_lstm = model_bidirectional_lstm.predict(X_test_padded)\n",
        "y_pred_bidirectional_lstm_labels = y_pred_bidirectional_lstm.argmax(axis=1)"
      ],
      "metadata": {
        "colab": {
          "base_uri": "https://localhost:8080/"
        },
        "id": "1TUGOAAy26Xu",
        "outputId": "890a2bcf-ef56-4412-e7d8-78449fe4b547"
      },
      "execution_count": 81,
      "outputs": [
        {
          "output_type": "stream",
          "name": "stdout",
          "text": [
            "625/625 [==============================] - 60s 96ms/step\n"
          ]
        }
      ]
    },
    {
      "cell_type": "markdown",
      "source": [
        "# Calculating **precision** of each class (Positive, Negative, Neutral)"
      ],
      "metadata": {
        "id": "U3L-ImR2gtRN"
      }
    },
    {
      "cell_type": "markdown",
      "source": [
        "### **CNN**"
      ],
      "metadata": {
        "id": "NvXW_GqxucB1"
      }
    },
    {
      "cell_type": "code",
      "source": [
        "precision_positive_cnn = precision_score(y_test_encoded, y_pred_cnn_labels, labels=[2], average=None)\n",
        "precision_negative_cnn = precision_score(y_test_encoded, y_pred_cnn_labels, labels=[0], average=None)\n",
        "precision_neutral_cnn = precision_score(y_test_encoded, y_pred_cnn_labels, labels=[1], average=None)\n",
        "\n",
        "print(\"CNN Precision - Positive class:\", precision_positive_cnn)\n",
        "print(\"CNN Precision - Negative class:\", precision_negative_cnn)\n",
        "print(\"CNN Precision - Neutral class:\", precision_neutral_cnn)"
      ],
      "metadata": {
        "id": "XCuiFLuiujO5",
        "colab": {
          "base_uri": "https://localhost:8080/"
        },
        "outputId": "be2f02b0-1779-4873-97b5-6920f1ef865b"
      },
      "execution_count": 89,
      "outputs": [
        {
          "output_type": "stream",
          "name": "stdout",
          "text": [
            "CNN Precision - Positive class: [0.95520159]\n",
            "CNN Precision - Negative class: [0.85869565]\n",
            "CNN Precision - Neutral class: [0.70193548]\n"
          ]
        }
      ]
    },
    {
      "cell_type": "markdown",
      "source": [
        "### **LSTM**"
      ],
      "metadata": {
        "id": "18KxSagGAWfq"
      }
    },
    {
      "cell_type": "code",
      "source": [
        "precision_positive_lstm = precision_score(y_test_encoded, y_pred_lstm_labels, labels=[2], average=None)\n",
        "precision_negative_lstm = precision_score(y_test_encoded, y_pred_lstm_labels, labels=[0], average=None)\n",
        "precision_neutral_lstm = precision_score(y_test_encoded, y_pred_lstm_labels, labels=[1], average=None)\n",
        "\n",
        "print(\"LSTM Precision - Positive class:\", precision_positive_lstm)\n",
        "print(\"LSTM Precision - Negative class:\", precision_negative_lstm)\n",
        "print(\"LSTM Precision - Neutral class:\", precision_neutral_lstm)"
      ],
      "metadata": {
        "colab": {
          "base_uri": "https://localhost:8080/"
        },
        "id": "A7sP1siOAYPp",
        "outputId": "4217aa12-0795-4f38-9ff9-7930e3eb9da4"
      },
      "execution_count": 90,
      "outputs": [
        {
          "output_type": "stream",
          "name": "stdout",
          "text": [
            "LSTM Precision - Positive class: [0.95880057]\n",
            "LSTM Precision - Negative class: [0.85315408]\n",
            "LSTM Precision - Neutral class: [0.76279391]\n"
          ]
        }
      ]
    },
    {
      "cell_type": "markdown",
      "source": [
        "### **BiLSTM**"
      ],
      "metadata": {
        "id": "bipzBUaShL8_"
      }
    },
    {
      "cell_type": "code",
      "source": [
        "from sklearn.metrics import precision_score\n",
        "\n",
        "precision_positive_bidirectional_lstm = precision_score(y_test_encoded, y_pred_bidirectional_lstm_labels, labels=[2], average=None)\n",
        "precision_negative_bidirectional_lstm = precision_score(y_test_encoded, y_pred_bidirectional_lstm_labels, labels=[0], average=None)\n",
        "precision_neutral_bidirectional_lstm = precision_score(y_test_encoded, y_pred_bidirectional_lstm_labels, labels=[1], average=None)\n",
        "\n",
        "print(\"Bidirectional LSTM Precision - Positive class:\", precision_positive_bidirectional_lstm)\n",
        "print(\"Bidirectional LSTM Precision - Negative class:\", precision_negative_bidirectional_lstm)\n",
        "print(\"Bidirectional LSTM Precision - Neutral class:\", precision_neutral_bidirectional_lstm)"
      ],
      "metadata": {
        "colab": {
          "base_uri": "https://localhost:8080/"
        },
        "id": "QcbmSK8cg9u_",
        "outputId": "4d3e0b38-9dac-425a-949c-171b4d7491a7"
      },
      "execution_count": 84,
      "outputs": [
        {
          "output_type": "stream",
          "name": "stdout",
          "text": [
            "Bidirectional LSTM Precision - Positive class: [0.95388694]\n",
            "Bidirectional LSTM Precision - Negative class: [0.79038113]\n",
            "Bidirectional LSTM Precision - Neutral class: [0.76204707]\n"
          ]
        }
      ]
    },
    {
      "cell_type": "markdown",
      "source": [
        "# Confusion Matrix"
      ],
      "metadata": {
        "id": "RXwyk8mgg6yK"
      }
    },
    {
      "cell_type": "code",
      "source": [
        "from sklearn.metrics import confusion_matrix\n",
        "import seaborn as sns\n",
        "import matplotlib.pyplot as plt"
      ],
      "metadata": {
        "id": "N0M43_qQBGOA"
      },
      "execution_count": 91,
      "outputs": []
    },
    {
      "cell_type": "code",
      "source": [
        "def plot_confusion_matrix(y_true, y_pred, title):\n",
        "    cm = confusion_matrix(y_true, y_pred)\n",
        "    plt.figure(figsize=(8, 6))\n",
        "    sns.heatmap(cm, annot=True, fmt='d', cmap='Blues', xticklabels=['Negative', 'Neutral', 'Positive'], yticklabels=['Negative', 'Neutral', 'Positive'])\n",
        "    plt.xlabel('Predicted')\n",
        "    plt.ylabel('True')\n",
        "    plt.title(title)\n",
        "    plt.show()"
      ],
      "metadata": {
        "id": "xWGMhVHEBGiF"
      },
      "execution_count": 93,
      "outputs": []
    },
    {
      "cell_type": "code",
      "source": [
        "plot_confusion_matrix(y_test_encoded, y_pred_cnn_labels, \"CNN Confusion Matrix\")"
      ],
      "metadata": {
        "colab": {
          "base_uri": "https://localhost:8080/",
          "height": 564
        },
        "id": "kOQ-Aoy8BLdQ",
        "outputId": "64e5fa29-1bb6-4cf7-d120-470afb2eeca1"
      },
      "execution_count": 94,
      "outputs": [
        {
          "output_type": "display_data",
          "data": {
            "text/plain": [
              "<Figure size 800x600 with 2 Axes>"
            ],
            "image/png": "[encoded data removed]"
          },
          "metadata": {}
        }
      ]
    },
    {
      "cell_type": "code",
      "source": [
        "plot_confusion_matrix(y_test_encoded, y_pred_lstm_labels, \"LSTM Confusion Matrix\")"
      ],
      "metadata": {
        "colab": {
          "base_uri": "https://localhost:8080/",
          "height": 564
        },
        "id": "Z9cQecc4BRJ2",
        "outputId": "87385fd3-f01c-40dc-a4f5-2cd38f08907c"
      },
      "execution_count": 95,
      "outputs": [
        {
          "output_type": "display_data",
          "data": {
            "text/plain": [
              "<Figure size 800x600 with 2 Axes>"
            ],
            "image/png": "[encoded data removed]"
          },
          "metadata": {}
        }
      ]
    },
    {
      "cell_type": "code",
      "source": [
        "plot_confusion_matrix(y_test_encoded, y_pred_bidirectional_lstm_labels, \"Bidirectional LSTM Confusion Matrix\")"
      ],
      "metadata": {
        "colab": {
          "base_uri": "https://localhost:8080/",
          "height": 564
        },
        "id": "xXOj6EF-BTc9",
        "outputId": "93366ae9-07ad-425f-d9bf-c5ea135ca3fe"
      },
      "execution_count": 96,
      "outputs": [
        {
          "output_type": "display_data",
          "data": {
            "text/plain": [
              "<Figure size 800x600 with 2 Axes>"
            ],
            "image/png": "[encoded data removed]"
          },
          "metadata": {}
        }
      ]
    },
    {
      "cell_type": "code",
      "source": [
        "# Compute confusion matrices\n",
        "cm_cnn = confusion_matrix(y_test_encoded, y_pred_cnn_labels)\n",
        "cm_lstm = confusion_matrix(y_test_encoded, y_pred_lstm_labels)\n",
        "cm_bidirectional_lstm = confusion_matrix(y_test_encoded, y_pred_bidirectional_lstm_labels)\n",
        "\n",
        "print(\"CNN Confusion Matrix:\")\n",
        "print(cm_cnn)\n",
        "print(\"\\n\")\n",
        "\n",
        "print(\"LSTM Confusion Matrix:\")\n",
        "print(cm_lstm)\n",
        "print(\"\\n\")\n",
        "\n",
        "print(\"Bidirectional LSTM Confusion Matrix:\")\n",
        "print(cm_bidirectional_lstm)"
      ],
      "metadata": {
        "colab": {
          "base_uri": "https://localhost:8080/"
        },
        "id": "za4n0nCmBVZj",
        "outputId": "7fb480dd-abee-4545-fd78-c887ea5d27d4"
      },
      "execution_count": 100,
      "outputs": [
        {
          "output_type": "stream",
          "name": "stdout",
          "text": [
            "CNN Confusion Matrix:\n",
            "[[  711   338     5]\n",
            " [  116  2176   715]\n",
            " [    1   586 15352]]\n",
            "\n",
            "\n",
            "LSTM Confusion Matrix:\n",
            "[[  825   225     4]\n",
            " [  140  2206   661]\n",
            " [    2   461 15476]]\n",
            "\n",
            "\n",
            "Bidirectional LSTM Confusion Matrix:\n",
            "[[  871   175     8]\n",
            " [  227  2040   740]\n",
            " [    4   462 15473]]\n"
          ]
        }
      ]
    },
    {
      "cell_type": "code",
      "source": [],
      "metadata": {
        "id": "nxt4jktQJTRg"
      },
      "execution_count": null,
      "outputs": []
    }
  ],
  "metadata": {
    "colab": {
      "provenance": []
    },
    "kernelspec": {
      "display_name": "Python 3",
      "name": "python3"
    },
    "language_info": {
      "name": "python"
    }
  },
  "nbformat": 4,
  "nbformat_minor": 0
}