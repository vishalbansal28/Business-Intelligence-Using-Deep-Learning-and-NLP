{
  "nbformat": 4,
  "nbformat_minor": 0,
  "metadata": {
    "colab": {
      "provenance": [],
      "collapsed_sections": [
        "R6P_ERVumDy9",
        "jUqGEa2_usSa",
        "ZGyP0KBFivtp",
        "kuChydA_zUfE",
        "ARyz6UzPGWf4",
        "Q5Hv_96zFwbs",
        "mVUSGJjfF9Tw",
        "yZwQrqJKlPf7",
        "R-1_cmI2qsbm",
        "WNFlt9bRq2K2"
      ],
      "mount_file_id": "1PApEpdwXl_SLWF28SfQDTwQgxzxaL6Fd",
      "authorship_tag": "ABX9TyMIrjj+NaY8vItS/Kx3FGf9",
      "include_colab_link": true
    },
    "kernelspec": {
      "name": "python3",
      "display_name": "Python 3"
    },
    "language_info": {
      "name": "python"
    }
  },
  "cells": [
    {
      "cell_type": "markdown",
      "metadata": {
        "id": "view-in-github",
        "colab_type": "text"
      },
      "source": [
        "<a href=\"https://colab.research.google.com/github/ivllnv/CPE313-Final-Project/blob/main/Notebooks/Topic_Modeling.ipynb\" target=\"_parent\"><img src=\"https://colab.research.google.com/assets/colab-badge.svg\" alt=\"Open In Colab\"/></a>"
      ]
    },
    {
      "cell_type": "markdown",
      "source": [
        "# Libraries"
      ],
      "metadata": {
        "id": "LKL7EUue5XDT"
      }
    },
    {
      "cell_type": "code",
      "source": [
        "import pandas as pd\n",
        "import numpy as np\n",
        "import matplotlib.pyplot as plt\n",
        "import seaborn as sns\n",
        "import requests\n",
        "import requests\n",
        "import warnings\n",
        "warnings.filterwarnings('ignore')\n",
        "import csv, json\n",
        "import re\n",
        "import folium\n",
        "import geopandas as gpd\n",
        "import nltk\n",
        "from nltk.tokenize import RegexpTokenizer\n",
        "from nltk.stem import WordNetLemmatizer,PorterStemmer\n",
        "from nltk.corpus import stopwords\n",
        "import re\n",
        "nltk.download('stopwords')\n",
        "nltk.download('wordnet')\n",
        "lemmatizer = WordNetLemmatizer()\n",
        "stemmer = PorterStemmer()"
      ],
      "metadata": {
        "id": "JyDbZekNgU4j",
        "colab": {
          "base_uri": "https://localhost:8080/"
        },
        "outputId": "3d52ec97-94f1-495a-f31b-3e5a01a2267c"
      },
      "execution_count": 10,
      "outputs": [
        {
          "output_type": "stream",
          "name": "stderr",
          "text": [
            "[nltk_data] Downloading package stopwords to /root/nltk_data...\n",
            "[nltk_data]   Package stopwords is already up-to-date!\n",
            "[nltk_data] Downloading package wordnet to /root/nltk_data...\n",
            "[nltk_data]   Package wordnet is already up-to-date!\n"
          ]
        }
      ]
    },
    {
      "cell_type": "markdown",
      "source": [
        "# Natural Language Processing"
      ],
      "metadata": {
        "id": "4ZQPjjq5i-Ic"
      }
    },
    {
      "cell_type": "markdown",
      "source": [
        "## Topic Modeling"
      ],
      "metadata": {
        "id": "13WH_mhPqMPo"
      }
    },
    {
      "cell_type": "markdown",
      "source": [
        "### Libraries"
      ],
      "metadata": {
        "id": "AfKMONQwlVOZ"
      }
    },
    {
      "cell_type": "code",
      "source": [
        "import json\n",
        "import pandas as pd\n",
        "from sklearn.feature_extraction.text import CountVectorizer\n",
        "from sklearn.decomposition import LatentDirichletAllocation as LDA\n",
        "from sklearn.model_selection import train_test_split\n",
        "import matplotlib.pyplot as plt\n",
        "\n",
        "import gensim\n",
        "from gensim.models import LsiModel\n",
        "from gensim.models.ldamodel import LdaModel\n",
        "from gensim.models import TfidfModel\n",
        "from gensim.models.coherencemodel import CoherenceModel\n",
        "from gensim import corpora, models\n",
        "from gensim.models.ldamulticore import LdaMulticore\n",
        "import spacy\n",
        "from sklearn.feature_extraction.text import TfidfVectorizer\n",
        "from sklearn.decomposition import NMF\n",
        "from spacy.tokens import Token\n",
        "from nltk.corpus import stopwords\n",
        "from nltk.tokenize import word_tokenize\n",
        "from nltk.stem import WordNetLemmatizer\n",
        "lemmatizer = WordNetLemmatizer()\n",
        "stop_words = set(stopwords.words('english'))"
      ],
      "metadata": {
        "id": "Sqe82VamlXGE"
      },
      "execution_count": 30,
      "outputs": []
    },
    {
      "cell_type": "code",
      "source": [
        "import nltk\n",
        "nltk.download('stopwords')\n",
        "nltk.download('punkt')"
      ],
      "metadata": {
        "colab": {
          "base_uri": "https://localhost:8080/"
        },
        "id": "HS2K0_xBdBoF",
        "outputId": "ac3db236-45e4-4da6-badc-b9d804beae8e"
      },
      "execution_count": 12,
      "outputs": [
        {
          "output_type": "stream",
          "name": "stderr",
          "text": [
            "[nltk_data] Downloading package stopwords to /root/nltk_data...\n",
            "[nltk_data]   Package stopwords is already up-to-date!\n",
            "[nltk_data] Downloading package punkt to /root/nltk_data...\n",
            "[nltk_data]   Package punkt is already up-to-date!\n"
          ]
        },
        {
          "output_type": "execute_result",
          "data": {
            "text/plain": [
              "True"
            ]
          },
          "metadata": {},
          "execution_count": 12
        }
      ]
    },
    {
      "cell_type": "markdown",
      "source": [
        "### Preprocess"
      ],
      "metadata": {
        "id": "yZwQrqJKlPf7"
      }
    },
    {
      "cell_type": "code",
      "source": [
        "file_path1 = '/content/drive/Shareddrives/CPE313/Yelp_AcademicDataset/yelp_academic_dataset_business.json'\n",
        "file_path2 = '/content/drive/Shareddrives/CPE313/Yelp_AcademicDataset/sentiment_dataset.csv'"
      ],
      "metadata": {
        "id": "KxawHloYx07r"
      },
      "execution_count": 13,
      "outputs": []
    },
    {
      "cell_type": "code",
      "source": [
        "def read_json_lines(file_path):\n",
        "    data = []\n",
        "    with open(file_path, 'r', encoding='utf-8') as f:\n",
        "        for line in f:\n",
        "            try:\n",
        "                data.append(json.loads(line))\n",
        "            except json.JSONDecodeError:\n",
        "                continue\n",
        "    return data"
      ],
      "metadata": {
        "id": "UQlU3d9afxrI"
      },
      "execution_count": 14,
      "outputs": []
    },
    {
      "cell_type": "code",
      "source": [
        "business_json = read_json_lines(file_path1)\n",
        "business_df = pd.DataFrame(business_json)\n",
        "review_csv = pd.read_csv(file_path2)"
      ],
      "metadata": {
        "id": "Vh8EFHTefz7E"
      },
      "execution_count": 15,
      "outputs": []
    },
    {
      "cell_type": "code",
      "source": [
        "business_json = business_df[['business_id', 'name', 'latitude', 'longitude']]\n",
        "merge = pd.merge(review_csv, business_json, on='business_id', how='left')\n",
        "df = merge[['business_id', 'name', 'latitude', 'longitude', 'stars', 'date', 'text','cleanText', 'sentiment']]"
      ],
      "metadata": {
        "id": "Py5Fiwyyy6LC"
      },
      "execution_count": 16,
      "outputs": []
    },
    {
      "cell_type": "code",
      "source": [
        "df.isna().sum()"
      ],
      "metadata": {
        "colab": {
          "base_uri": "https://localhost:8080/"
        },
        "id": "k2ra9UcC0Eox",
        "outputId": "433e2e49-44b8-4bb8-d8ac-478ae4c4627f"
      },
      "execution_count": 17,
      "outputs": [
        {
          "output_type": "execute_result",
          "data": {
            "text/plain": [
              "business_id        0\n",
              "name           11492\n",
              "latitude       11492\n",
              "longitude      11492\n",
              "stars              0\n",
              "date               0\n",
              "text               0\n",
              "cleanText          1\n",
              "sentiment          0\n",
              "dtype: int64"
            ]
          },
          "metadata": {},
          "execution_count": 17
        }
      ]
    },
    {
      "cell_type": "code",
      "source": [
        "df = df.dropna()"
      ],
      "metadata": {
        "id": "mKXWjQMu0USR"
      },
      "execution_count": 18,
      "outputs": []
    },
    {
      "cell_type": "code",
      "source": [
        "df.shape"
      ],
      "metadata": {
        "colab": {
          "base_uri": "https://localhost:8080/"
        },
        "id": "9-LrXCS4sMzt",
        "outputId": "d118b5af-9eec-4694-fe99-bde8ef2e0205"
      },
      "execution_count": 19,
      "outputs": [
        {
          "output_type": "execute_result",
          "data": {
            "text/plain": [
              "(88507, 9)"
            ]
          },
          "metadata": {},
          "execution_count": 19
        }
      ]
    },
    {
      "cell_type": "code",
      "source": [
        "df.head(2)"
      ],
      "metadata": {
        "colab": {
          "base_uri": "https://localhost:8080/",
          "height": 147
        },
        "id": "EbOqnq_Bx2R9",
        "outputId": "4a734184-c795-4f05-bebb-5e9207abaf77"
      },
      "execution_count": 20,
      "outputs": [
        {
          "output_type": "execute_result",
          "data": {
            "text/plain": [
              "              business_id                          name   latitude  longitude  \\\n",
              "0  XQfwVwDr-v0ZS3_CbbE5Xw  Turning Point of North Wales  40.210196 -75.223639   \n",
              "1  7ATYjTIgM3jUlt4UM3IypQ    Body Cycle Spinning Studio  39.952103 -75.172753   \n",
              "\n",
              "   stars                 date  \\\n",
              "0      3  2018-07-07 22:09:11   \n",
              "1      5  2012-01-03 15:28:18   \n",
              "\n",
              "                                                text  \\\n",
              "0  If you decide to eat here, just be aware it is...   \n",
              "1  I've taken a lot of spin classes over the year...   \n",
              "\n",
              "                                           cleanText sentiment  \n",
              "0  decide eat aware going take hours beginning en...  positive  \n",
              "1  taken lot spin classes years nothing compares ...  positive  "
            ],
            "text/html": [
              "\n",
              "  <div id=\"df-2f648169-7b2b-4e3b-89d9-96974bba2bf7\" class=\"colab-df-container\">\n",
              "    <div>\n",
              "<style scoped>\n",
              "    .dataframe tbody tr th:only-of-type {\n",
              "        vertical-align: middle;\n",
              "    }\n",
              "\n",
              "    .dataframe tbody tr th {\n",
              "        vertical-align: top;\n",
              "    }\n",
              "\n",
              "    .dataframe thead th {\n",
              "        text-align: right;\n",
              "    }\n",
              "</style>\n",
              "<table border=\"1\" class=\"dataframe\">\n",
              "  <thead>\n",
              "    <tr style=\"text-align: right;\">\n",
              "      <th></th>\n",
              "      <th>business_id</th>\n",
              "      <th>name</th>\n",
              "      <th>latitude</th>\n",
              "      <th>longitude</th>\n",
              "      <th>stars</th>\n",
              "      <th>date</th>\n",
              "      <th>text</th>\n",
              "      <th>cleanText</th>\n",
              "      <th>sentiment</th>\n",
              "    </tr>\n",
              "  </thead>\n",
              "  <tbody>\n",
              "    <tr>\n",
              "      <th>0</th>\n",
              "      <td>XQfwVwDr-v0ZS3_CbbE5Xw</td>\n",
              "      <td>Turning Point of North Wales</td>\n",
              "      <td>40.210196</td>\n",
              "      <td>-75.223639</td>\n",
              "      <td>3</td>\n",
              "      <td>2018-07-07 22:09:11</td>\n",
              "      <td>If you decide to eat here, just be aware it is...</td>\n",
              "      <td>decide eat aware going take hours beginning en...</td>\n",
              "      <td>positive</td>\n",
              "    </tr>\n",
              "    <tr>\n",
              "      <th>1</th>\n",
              "      <td>7ATYjTIgM3jUlt4UM3IypQ</td>\n",
              "      <td>Body Cycle Spinning Studio</td>\n",
              "      <td>39.952103</td>\n",
              "      <td>-75.172753</td>\n",
              "      <td>5</td>\n",
              "      <td>2012-01-03 15:28:18</td>\n",
              "      <td>I've taken a lot of spin classes over the year...</td>\n",
              "      <td>taken lot spin classes years nothing compares ...</td>\n",
              "      <td>positive</td>\n",
              "    </tr>\n",
              "  </tbody>\n",
              "</table>\n",
              "</div>\n",
              "    <div class=\"colab-df-buttons\">\n",
              "\n",
              "  <div class=\"colab-df-container\">\n",
              "    <button class=\"colab-df-convert\" onclick=\"convertToInteractive('df-2f648169-7b2b-4e3b-89d9-96974bba2bf7')\"\n",
              "            title=\"Convert this dataframe to an interactive table.\"\n",
              "            style=\"display:none;\">\n",
              "\n",
              "  <svg xmlns=\"http://www.w3.org/2000/svg\" height=\"24px\" viewBox=\"0 -960 960 960\">\n",
              "    <path d=\"M120-120v-720h720v720H120Zm60-500h600v-160H180v160Zm220 220h160v-160H400v160Zm0 220h160v-160H400v160ZM180-400h160v-160H180v160Zm440 0h160v-160H620v160ZM180-180h160v-160H180v160Zm440 0h160v-160H620v160Z\"/>\n",
              "  </svg>\n",
              "    </button>\n",
              "\n",
              "  <style>\n",
              "    .colab-df-container {\n",
              "      display:flex;\n",
              "      gap: 12px;\n",
              "    }\n",
              "\n",
              "    .colab-df-convert {\n",
              "      background-color: #E8F0FE;\n",
              "      border: none;\n",
              "      border-radius: 50%;\n",
              "      cursor: pointer;\n",
              "      display: none;\n",
              "      fill: #1967D2;\n",
              "      height: 32px;\n",
              "      padding: 0 0 0 0;\n",
              "      width: 32px;\n",
              "    }\n",
              "\n",
              "    .colab-df-convert:hover {\n",
              "      background-color: #E2EBFA;\n",
              "      box-shadow: 0px 1px 2px rgba(60, 64, 67, 0.3), 0px 1px 3px 1px rgba(60, 64, 67, 0.15);\n",
              "      fill: #174EA6;\n",
              "    }\n",
              "\n",
              "    .colab-df-buttons div {\n",
              "      margin-bottom: 4px;\n",
              "    }\n",
              "\n",
              "    [theme=dark] .colab-df-convert {\n",
              "      background-color: #3B4455;\n",
              "      fill: #D2E3FC;\n",
              "    }\n",
              "\n",
              "    [theme=dark] .colab-df-convert:hover {\n",
              "      background-color: #434B5C;\n",
              "      box-shadow: 0px 1px 3px 1px rgba(0, 0, 0, 0.15);\n",
              "      filter: drop-shadow(0px 1px 2px rgba(0, 0, 0, 0.3));\n",
              "      fill: #FFFFFF;\n",
              "    }\n",
              "  </style>\n",
              "\n",
              "    <script>\n",
              "      const buttonEl =\n",
              "        document.querySelector('#df-2f648169-7b2b-4e3b-89d9-96974bba2bf7 button.colab-df-convert');\n",
              "      buttonEl.style.display =\n",
              "        google.colab.kernel.accessAllowed ? 'block' : 'none';\n",
              "\n",
              "      async function convertToInteractive(key) {\n",
              "        const element = document.querySelector('#df-2f648169-7b2b-4e3b-89d9-96974bba2bf7');\n",
              "        const dataTable =\n",
              "          await google.colab.kernel.invokeFunction('convertToInteractive',\n",
              "                                                    [key], {});\n",
              "        if (!dataTable) return;\n",
              "\n",
              "        const docLinkHtml = 'Like what you see? Visit the ' +\n",
              "          '<a target=\"_blank\" href=https://colab.research.google.com/notebooks/data_table.ipynb>data table notebook</a>'\n",
              "          + ' to learn more about interactive tables.';\n",
              "        element.innerHTML = '';\n",
              "        dataTable['output_type'] = 'display_data';\n",
              "        await google.colab.output.renderOutput(dataTable, element);\n",
              "        const docLink = document.createElement('div');\n",
              "        docLink.innerHTML = docLinkHtml;\n",
              "        element.appendChild(docLink);\n",
              "      }\n",
              "    </script>\n",
              "  </div>\n",
              "\n",
              "\n",
              "<div id=\"df-011dac50-507f-4139-960d-d4ad29b3e16b\">\n",
              "  <button class=\"colab-df-quickchart\" onclick=\"quickchart('df-011dac50-507f-4139-960d-d4ad29b3e16b')\"\n",
              "            title=\"Suggest charts\"\n",
              "            style=\"display:none;\">\n",
              "\n",
              "<svg xmlns=\"http://www.w3.org/2000/svg\" height=\"24px\"viewBox=\"0 0 24 24\"\n",
              "     width=\"24px\">\n",
              "    <g>\n",
              "        <path d=\"M19 3H5c-1.1 0-2 .9-2 2v14c0 1.1.9 2 2 2h14c1.1 0 2-.9 2-2V5c0-1.1-.9-2-2-2zM9 17H7v-7h2v7zm4 0h-2V7h2v10zm4 0h-2v-4h2v4z\"/>\n",
              "    </g>\n",
              "</svg>\n",
              "  </button>\n",
              "\n",
              "<style>\n",
              "  .colab-df-quickchart {\n",
              "      --bg-color: #E8F0FE;\n",
              "      --fill-color: #1967D2;\n",
              "      --hover-bg-color: #E2EBFA;\n",
              "      --hover-fill-color: #174EA6;\n",
              "      --disabled-fill-color: #AAA;\n",
              "      --disabled-bg-color: #DDD;\n",
              "  }\n",
              "\n",
              "  [theme=dark] .colab-df-quickchart {\n",
              "      --bg-color: #3B4455;\n",
              "      --fill-color: #D2E3FC;\n",
              "      --hover-bg-color: #434B5C;\n",
              "      --hover-fill-color: #FFFFFF;\n",
              "      --disabled-bg-color: #3B4455;\n",
              "      --disabled-fill-color: #666;\n",
              "  }\n",
              "\n",
              "  .colab-df-quickchart {\n",
              "    background-color: var(--bg-color);\n",
              "    border: none;\n",
              "    border-radius: 50%;\n",
              "    cursor: pointer;\n",
              "    display: none;\n",
              "    fill: var(--fill-color);\n",
              "    height: 32px;\n",
              "    padding: 0;\n",
              "    width: 32px;\n",
              "  }\n",
              "\n",
              "  .colab-df-quickchart:hover {\n",
              "    background-color: var(--hover-bg-color);\n",
              "    box-shadow: 0 1px 2px rgba(60, 64, 67, 0.3), 0 1px 3px 1px rgba(60, 64, 67, 0.15);\n",
              "    fill: var(--button-hover-fill-color);\n",
              "  }\n",
              "\n",
              "  .colab-df-quickchart-complete:disabled,\n",
              "  .colab-df-quickchart-complete:disabled:hover {\n",
              "    background-color: var(--disabled-bg-color);\n",
              "    fill: var(--disabled-fill-color);\n",
              "    box-shadow: none;\n",
              "  }\n",
              "\n",
              "  .colab-df-spinner {\n",
              "    border: 2px solid var(--fill-color);\n",
              "    border-color: transparent;\n",
              "    border-bottom-color: var(--fill-color);\n",
              "    animation:\n",
              "      spin 1s steps(1) infinite;\n",
              "  }\n",
              "\n",
              "  @keyframes spin {\n",
              "    0% {\n",
              "      border-color: transparent;\n",
              "      border-bottom-color: var(--fill-color);\n",
              "      border-left-color: var(--fill-color);\n",
              "    }\n",
              "    20% {\n",
              "      border-color: transparent;\n",
              "      border-left-color: var(--fill-color);\n",
              "      border-top-color: var(--fill-color);\n",
              "    }\n",
              "    30% {\n",
              "      border-color: transparent;\n",
              "      border-left-color: var(--fill-color);\n",
              "      border-top-color: var(--fill-color);\n",
              "      border-right-color: var(--fill-color);\n",
              "    }\n",
              "    40% {\n",
              "      border-color: transparent;\n",
              "      border-right-color: var(--fill-color);\n",
              "      border-top-color: var(--fill-color);\n",
              "    }\n",
              "    60% {\n",
              "      border-color: transparent;\n",
              "      border-right-color: var(--fill-color);\n",
              "    }\n",
              "    80% {\n",
              "      border-color: transparent;\n",
              "      border-right-color: var(--fill-color);\n",
              "      border-bottom-color: var(--fill-color);\n",
              "    }\n",
              "    90% {\n",
              "      border-color: transparent;\n",
              "      border-bottom-color: var(--fill-color);\n",
              "    }\n",
              "  }\n",
              "</style>\n",
              "\n",
              "  <script>\n",
              "    async function quickchart(key) {\n",
              "      const quickchartButtonEl =\n",
              "        document.querySelector('#' + key + ' button');\n",
              "      quickchartButtonEl.disabled = true;  // To prevent multiple clicks.\n",
              "      quickchartButtonEl.classList.add('colab-df-spinner');\n",
              "      try {\n",
              "        const charts = await google.colab.kernel.invokeFunction(\n",
              "            'suggestCharts', [key], {});\n",
              "      } catch (error) {\n",
              "        console.error('Error during call to suggestCharts:', error);\n",
              "      }\n",
              "      quickchartButtonEl.classList.remove('colab-df-spinner');\n",
              "      quickchartButtonEl.classList.add('colab-df-quickchart-complete');\n",
              "    }\n",
              "    (() => {\n",
              "      let quickchartButtonEl =\n",
              "        document.querySelector('#df-011dac50-507f-4139-960d-d4ad29b3e16b button');\n",
              "      quickchartButtonEl.style.display =\n",
              "        google.colab.kernel.accessAllowed ? 'block' : 'none';\n",
              "    })();\n",
              "  </script>\n",
              "</div>\n",
              "    </div>\n",
              "  </div>\n"
            ],
            "application/vnd.google.colaboratory.intrinsic+json": {
              "type": "dataframe",
              "variable_name": "df",
              "summary": "{\n  \"name\": \"df\",\n  \"rows\": 88507,\n  \"fields\": [\n    {\n      \"column\": \"business_id\",\n      \"properties\": {\n        \"dtype\": \"category\",\n        \"num_unique_values\": 8777,\n        \"samples\": [\n          \"4DVN5Uun3i-nmTIIOBhHog\",\n          \"Dq1nXxrAHZQkiQuZWLajQA\",\n          \"ri7LOsk5W_xGVfxhXFHY5Q\"\n        ],\n        \"semantic_type\": \"\",\n        \"description\": \"\"\n      }\n    },\n    {\n      \"column\": \"name\",\n      \"properties\": {\n        \"dtype\": \"category\",\n        \"num_unique_values\": 7622,\n        \"samples\": [\n          \"Quest Chiropractic of Ambler\",\n          \"Maryanne S. Ritter Jewelers\",\n          \"Licata's Italian Deli\"\n        ],\n        \"semantic_type\": \"\",\n        \"description\": \"\"\n      }\n    },\n    {\n      \"column\": \"latitude\",\n      \"properties\": {\n        \"dtype\": \"number\",\n        \"std\": 5.3050221559125745,\n        \"min\": 27.555127,\n        \"max\": 53.642274,\n        \"num_unique_values\": 8677,\n        \"samples\": [\n          32.2636803,\n          53.5114948,\n          40.1116764\n        ],\n        \"semantic_type\": \"\",\n        \"description\": \"\"\n      }\n    },\n    {\n      \"column\": \"longitude\",\n      \"properties\": {\n        \"dtype\": \"number\",\n        \"std\": 14.583811304710474,\n        \"min\": -120.095137,\n        \"max\": -74.6585723,\n        \"num_unique_values\": 8656,\n        \"samples\": [\n          -119.808879799,\n          -82.7307494122,\n          -111.0896327\n        ],\n        \"semantic_type\": \"\",\n        \"description\": \"\"\n      }\n    },\n    {\n      \"column\": \"stars\",\n      \"properties\": {\n        \"dtype\": \"number\",\n        \"std\": 1,\n        \"min\": 1,\n        \"max\": 5,\n        \"num_unique_values\": 5,\n        \"samples\": [\n          5,\n          2,\n          4\n        ],\n        \"semantic_type\": \"\",\n        \"description\": \"\"\n      }\n    },\n    {\n      \"column\": \"date\",\n      \"properties\": {\n        \"dtype\": \"object\",\n        \"num_unique_values\": 88434,\n        \"samples\": [\n          \"2007-06-22 04:44:35\",\n          \"2016-07-27 16:00:05\",\n          \"2007-07-05 03:10:15\"\n        ],\n        \"semantic_type\": \"\",\n        \"description\": \"\"\n      }\n    },\n    {\n      \"column\": \"text\",\n      \"properties\": {\n        \"dtype\": \"string\",\n        \"num_unique_values\": 88477,\n        \"samples\": [\n          \"Thanks to the encouraging reviews on Yelp, my friend and I had lunch today at II Giardino. Wow, such a great place. As promised, just past the take-out area and through double-doors is Giardino's dining room. It's a pleasantly decorated, comfy, vintage Italian style dining area with booths and tables. The place is very clean and the restrooms are spotless. A sizable dish of potato gnocci with meatballs and red sauce provided lots of leftovers after filling my friend's tummy to capacity. The meatballs are large and scrumptious. My steamed clams with garlic bread were equally awesome. The clam broth was outrageously delicious. Our waiter was friendly, upbeat and efficient. Upon leaving the restaurant, he held the door open as an aid to my friend who is handicapped. How great is that! \\n\\nI couldn't resist stopping at Feast and Fancy a few hundred feet away after lunch. I was too full at that point to have eaten dessert but loaded up on baked goods from Feast and Fancy for when my tummy can accommodate something sinfully delicious. My stomach has been treated royally today.\",\n          \"This is a great spot for yummy and cheap Chinese take out! The service was friendly and very quick. \\nThe dinner special is a good portion for the affordable price. For two dinner specials I paid $15, and that's a great deal.\\nWe ordered the sweet and sour chicken and the beef with mixed vegetables and both were delicious! The chicken had all white meat which was a pleasant surprise.\\nI'll definitely be back again when I'm craving quick and easy Chinese food that's also delicious!\",\n          \"Great selection of vintage jewelry, accessories, and handbags! Adorable dresses with quirky patterns. Socks! Skirts. Friendly staff.\"\n        ],\n        \"semantic_type\": \"\",\n        \"description\": \"\"\n      }\n    },\n    {\n      \"column\": \"cleanText\",\n      \"properties\": {\n        \"dtype\": \"string\",\n        \"num_unique_values\": 88467,\n        \"samples\": [\n          \"tried ethiopian food first time last night queen sheba went groupon bought glad tried liked cuisine reminded indian food one favorite ethnic delights however ethiopian food eat hands scooping said piles food injera like thin airy version indian thin may using bread edible utensil left feeling rather full end queens platter like sampler platter different items order vegetarian chose combo meats vegetables actually preferred veggies red lentils yellow pea mash cabbage mix meats meats little gamey enjoyed scooping little bits assorted dishes injera groupon also came appetizer sampler hummus like dip lentil hummus esque dip fried appetizer like cross indian samosa jamaican jerk patty tomato salad afraid spice avoid spice beware rogue fresh jalapeno salad enjoy honey drink way sweet basically honey water ethiopian coffee end meal nice guess normally coffee ceremony beans roasted tableside missed late closing place service friendly nice cozy dim lit atmosphere also kind surprised pretty long wine list wines merlot argentina really good would probably back without groupon would pretty darn pricey picky eater place adventurous heart\",\n          \"awful business model took forever even figure order top workers actually professional top half sandwhich even sausage covering even half bread easily worst place\",\n          \"first last time blake lotaburger number reasons arrived place packed parking premium wanted eat finally found place park long line inside moving slowly line approximately minutes finally made counter placed order plenty time think ordered lota combo asked nothing burger except cheese onions asked sauces burgers like maybe island gluten issues asked gluten free buns ordered mine bunless combo comes according menu large drink large fries large drink something like ounces large fries smaller regular size certain large chain restaurants price fairly reasonable real complaint went found one table sit wait food dining room far small numbers people wanting check new restaurant may problem long however salt pepper shakers available napkins tables dining room young man running orders tables point realized backed really order number runner bringing orders low people already found tables entered restaurant getting food point already house approximately minutes took approximately another minutes get food got first disappointment fries unpleasant particularly hot along line lukewarm could used bit salt opened burger cheese onions counter wound equivalent small round onion patty thin dry disappointed fact one patty picture next lota combo clearly shows double patty burger asked told large number complaints experience far less hype led expect going back want good burger graze across street\"\n        ],\n        \"semantic_type\": \"\",\n        \"description\": \"\"\n      }\n    },\n    {\n      \"column\": \"sentiment\",\n      \"properties\": {\n        \"dtype\": \"category\",\n        \"num_unique_values\": 3,\n        \"samples\": [\n          \"positive\",\n          \"neutral\",\n          \"negative\"\n        ],\n        \"semantic_type\": \"\",\n        \"description\": \"\"\n      }\n    }\n  ]\n}"
            }
          },
          "metadata": {},
          "execution_count": 20
        }
      ]
    },
    {
      "cell_type": "code",
      "source": [
        "value_counts = df['business_id'].value_counts()\n",
        "value_counts"
      ],
      "metadata": {
        "colab": {
          "base_uri": "https://localhost:8080/"
        },
        "id": "6rSH4v10x0te",
        "outputId": "bab66ab8-f720-4005-908f-74f32e9c7ebd"
      },
      "execution_count": 21,
      "outputs": [
        {
          "output_type": "execute_result",
          "data": {
            "text/plain": [
              "business_id\n",
              "GBTPC53ZrG1ZBY3DT8Mbcw    950\n",
              "PY9GRfzr4nTZeINf346QOw    460\n",
              "W4ZEKkva9HpAdZG88juwyQ    433\n",
              "vN6v8m4DO45Z4pp8yxxF_w    404\n",
              "pSmOH4a3HNNpYM82J5ycLA    384\n",
              "                         ... \n",
              "1qHkyWDixBqIE_SH4fuCXQ      1\n",
              "4KJc9uwoe7WUTS5QoxEZLg      1\n",
              "WM5oG8uHlAnjcSvl-HArrQ      1\n",
              "rhTZnurJL8FXjbK6kKbOSA      1\n",
              "npyH-DyEMLhDMIqEedmB-g      1\n",
              "Name: count, Length: 8777, dtype: int64"
            ]
          },
          "metadata": {},
          "execution_count": 21
        }
      ]
    },
    {
      "cell_type": "code",
      "source": [
        "#Sample\n",
        "print(df[['cleanText', 'sentiment']].iloc[27])"
      ],
      "metadata": {
        "colab": {
          "base_uri": "https://localhost:8080/"
        },
        "id": "MQd43ewTeh_9",
        "outputId": "f086d305-8f3c-46fd-a5ac-549d153d66c4"
      },
      "execution_count": 22,
      "outputs": [
        {
          "output_type": "stream",
          "name": "stdout",
          "text": [
            "cleanText    great staff always helps always nice always cl...\n",
            "sentiment                                             positive\n",
            "Name: 32, dtype: object\n"
          ]
        }
      ]
    },
    {
      "cell_type": "code",
      "source": [
        "nlp = spacy.load('en_core_web_sm', disable=['parser', 'ner'])"
      ],
      "metadata": {
        "id": "rZ5FMHPf5Qhy"
      },
      "execution_count": 23,
      "outputs": []
    },
    {
      "cell_type": "code",
      "source": [
        "def preprocess_lemmatize(text, allowed_postags=['NOUN', 'ADJ', 'VERB', 'ADV']):\n",
        "  \"\"\"\n",
        "  Preprocesses and lemmatizes text.\n",
        "\n",
        "  Args:\n",
        "      text: The text to preprocess and lemmatize.\n",
        "      allowed_postags: A list of allowed part-of-speech tags (default: NOUN, ADJ, VERB, ADV).\n",
        "\n",
        "  Returns:\n",
        "      A list of lemmatized tokens.\n",
        "  \"\"\"\n",
        "\n",
        "  # Tokenize the text\n",
        "  tokens = word_tokenize(text.lower())\n",
        "\n",
        "  # Create a spaCy Doc object from the tokens\n",
        "  doc = nlp(\" \".join(tokens))\n",
        "\n",
        "  # Filter and lemmatize with spaCy\n",
        "  lemmas = [token.lemma_ for token in doc if token.pos_ in allowed_postags and isinstance(token, Token)]\n",
        "\n",
        "  return lemmas\n"
      ],
      "metadata": {
        "id": "OTyoU2AsY6gB"
      },
      "execution_count": 24,
      "outputs": []
    },
    {
      "cell_type": "code",
      "source": [
        "df['processed_text'] = df['cleanText'].apply(preprocess_lemmatize)"
      ],
      "metadata": {
        "id": "kKhrkCTH4vbU"
      },
      "execution_count": 25,
      "outputs": []
    },
    {
      "cell_type": "code",
      "source": [
        "#Sample again\n",
        "print(df[['processed_text', 'sentiment']].iloc[27])"
      ],
      "metadata": {
        "colab": {
          "base_uri": "https://localhost:8080/"
        },
        "id": "gLuiKw88ZALK",
        "outputId": "dc602ed4-b6a5-4277-84c6-16e9aa775ee0"
      },
      "execution_count": 26,
      "outputs": [
        {
          "output_type": "stream",
          "name": "stdout",
          "text": [
            "processed_text    [great, staff, always, help, always, nice, alw...\n",
            "sentiment                                                  positive\n",
            "Name: 32, dtype: object\n"
          ]
        }
      ]
    },
    {
      "cell_type": "code",
      "source": [
        "id2word = corpora.Dictionary(df['processed_text'])\n",
        "texts = df['processed_text']\n",
        "corpus = [id2word.doc2bow(text) for text in texts]"
      ],
      "metadata": {
        "id": "Ug2HvdqfxUN5"
      },
      "execution_count": 27,
      "outputs": []
    },
    {
      "cell_type": "code",
      "source": [
        "# Use TF-IDF\n",
        "tfidf = models.TfidfModel(corpus)\n",
        "corpus_tfidf = tfidf[corpus]"
      ],
      "metadata": {
        "id": "3sggQIBYxYPN"
      },
      "execution_count": 28,
      "outputs": []
    },
    {
      "cell_type": "code",
      "source": [
        "import matplotlib.pyplot as plt\n",
        "\n",
        "def plot_coherence(coherence_values, start, limit, step, title):\n",
        "  x = range(start, limit, step)\n",
        "  plt.plot(x, coherence_values)\n",
        "  plt.title(title)\n",
        "  plt.xlabel(\"Number of Topics\")\n",
        "  plt.ylabel(\"Coherence\")\n",
        "  plt.legend((\"Coherence\"), loc='best')\n",
        "  plt.show()"
      ],
      "metadata": {
        "id": "uWu8vfwZp8sB"
      },
      "execution_count": 29,
      "outputs": []
    },
    {
      "cell_type": "markdown",
      "source": [
        "### Latent Dirichlet Allocation (LDA)"
      ],
      "metadata": {
        "id": "R-1_cmI2qsbm"
      }
    },
    {
      "cell_type": "code",
      "source": [
        "def calc_coherence_LDA(dictionary, corpus, texts, limit, start, step):\n",
        "    coherence_values = []\n",
        "    model_list = []\n",
        "    highest_coherence = 0\n",
        "    best_num_topics = None\n",
        "\n",
        "    for num_topics in range(start, limit, step):\n",
        "        model = LdaMulticore(corpus=corpus,id2word=dictionary, num_topics=num_topics, alpha=.1, eta=0.1, random_state=42)\n",
        "        model_list.append(model)\n",
        "        print('Model Created')\n",
        "        coherencemodel = CoherenceModel(model=model, texts=texts, dictionary=dictionary, coherence='c_v')\n",
        "        coherence = coherencemodel.get_coherence()\n",
        "        print(coherence)\n",
        "        coherence_values.append(coherence)\n",
        "        if coherence > highest_coherence:\n",
        "          highest_coherence = coherence\n",
        "          best_num_topics = num_topics\n",
        "\n",
        "    return model_list, coherence_values_lda, best_num_topics"
      ],
      "metadata": {
        "id": "Y0EAYwsWwdQH"
      },
      "execution_count": null,
      "outputs": []
    },
    {
      "cell_type": "code",
      "source": [
        "model_list, coherence_values_lda, best_num_topics = calc_coherence_LDA(dictionary=id2word,\n",
        "                                                                       corpus=corpus_tfidf,\n",
        "                                                                       texts=texts,\n",
        "                                                                       start=20,\n",
        "                                                                       limit=50,\n",
        "                                                                       step=2)"
      ],
      "metadata": {
        "colab": {
          "base_uri": "https://localhost:8080/"
        },
        "id": "9yRtadexYFk7",
        "outputId": "1aa235e2-4491-4178-e436-007bc429f4d9"
      },
      "execution_count": null,
      "outputs": [
        {
          "output_type": "stream",
          "name": "stdout",
          "text": [
            "Model Created\n",
            "0.5342435062052877\n",
            "Model Created\n",
            "0.5512599544942673\n",
            "Model Created\n",
            "0.5778022637313022\n",
            "Model Created\n",
            "0.5833080864387905\n",
            "Model Created\n",
            "0.582643899862134\n",
            "Model Created\n",
            "0.5676281746806027\n",
            "Model Created\n",
            "0.5700561247005823\n",
            "Model Created\n",
            "0.5741346046248677\n",
            "Model Created\n",
            "0.5930668432283352\n",
            "Model Created\n",
            "0.5960040468715659\n",
            "Model Created\n",
            "0.5909857951291178\n",
            "Model Created\n",
            "0.5970904018174197\n",
            "Model Created\n",
            "0.5731843353290103\n",
            "Model Created\n",
            "0.6047930813202336\n",
            "Model Created\n",
            "0.6045519619428577\n"
          ]
        }
      ]
    },
    {
      "cell_type": "code",
      "source": [
        "plot_coherence(coherence_values_lda,\n",
        "               start=20,\n",
        "               limit=50,\n",
        "               step=2,\n",
        "               title=\"Latent Dirichlet Allocation (LDA)\")"
      ],
      "metadata": {
        "colab": {
          "base_uri": "https://localhost:8080/",
          "height": 472
        },
        "id": "A_zYnRM3rBT4",
        "outputId": "b0d4275c-a850-47bc-e9a1-28875fbe091c"
      },
      "execution_count": null,
      "outputs": [
        {
          "output_type": "display_data",
          "data": {
            "text/plain": [
              "<Figure size 640x480 with 1 Axes>"
            ],
            "image/png": "[encoded data removed]"
          },
          "metadata": {}
        }
      ]
    },
    {
      "cell_type": "code",
      "source": [
        "print(\"Number of topics with highest coherence:\", best_num_topics)"
      ],
      "metadata": {
        "colab": {
          "base_uri": "https://localhost:8080/"
        },
        "id": "_zvGl7PGyF2E",
        "outputId": "f04e7414-cb28-46f1-a1ff-db55a41e9c6f"
      },
      "execution_count": null,
      "outputs": [
        {
          "output_type": "stream",
          "name": "stdout",
          "text": [
            "Number of topics with highest coherence: 46\n"
          ]
        }
      ]
    },
    {
      "cell_type": "code",
      "source": [
        "index = coherence_values_lda.index(max(coherence_values_lda))\n",
        "model_list[index].show_topics()"
      ],
      "metadata": {
        "colab": {
          "base_uri": "https://localhost:8080/"
        },
        "id": "Em_uNnfRioLm",
        "outputId": "1bc0c690-bba2-4209-c61c-6d9dd3eac354"
      },
      "execution_count": null,
      "outputs": [
        {
          "output_type": "execute_result",
          "data": {
            "text/plain": [
              "[(27,\n",
              "  '0.008*\"apartment\" + 0.006*\"sticker\" + 0.005*\"disgust\" + 0.005*\"lease\" + 0.004*\"cram\" + 0.004*\"telling\" + 0.004*\"secure\" + 0.003*\"remarkable\" + 0.003*\"vip\" + 0.003*\"jewish\"'),\n",
              " (25,\n",
              "  '0.009*\"beg\" + 0.007*\"deliciousness\" + 0.004*\"facebook\" + 0.004*\"suburban\" + 0.004*\"dusty\" + 0.004*\"uptown\" + 0.004*\"fil\" + 0.003*\"significant\" + 0.003*\"gyoza\" + 0.003*\"military\"'),\n",
              " (40,\n",
              "  '0.016*\"chipotle\" + 0.011*\"beignet\" + 0.010*\"hamburger\" + 0.009*\"louis\" + 0.007*\"college\" + 0.007*\"meatball\" + 0.007*\"court\" + 0.006*\"spaghetti\" + 0.005*\"tri\" + 0.005*\"involve\"'),\n",
              " (29,\n",
              "  '0.009*\"gator\" + 0.008*\"closed\" + 0.008*\"branch\" + 0.007*\"curd\" + 0.006*\"excessive\" + 0.006*\"stew\" + 0.005*\"grub\" + 0.005*\"blah\" + 0.004*\"beloved\" + 0.004*\"skilled\"'),\n",
              " (28,\n",
              "  '0.008*\"remedy\" + 0.007*\"trail\" + 0.007*\"aesthetic\" + 0.005*\"hike\" + 0.005*\"barbeque\" + 0.005*\"breath\" + 0.004*\"lackluster\" + 0.004*\"sublime\" + 0.004*\"serene\" + 0.004*\"edible\"'),\n",
              " (20,\n",
              "  '0.009*\"ill\" + 0.009*\"huevos\" + 0.008*\"hoagie\" + 0.007*\"alot\" + 0.007*\"cigar\" + 0.006*\"costumer\" + 0.005*\"jack\" + 0.005*\"adequate\" + 0.005*\"death\" + 0.005*\"fav\"'),\n",
              " (31,\n",
              "  '0.012*\"tofu\" + 0.007*\"stare\" + 0.006*\"frill\" + 0.006*\"pesto\" + 0.006*\"runny\" + 0.005*\"code\" + 0.004*\"chase\" + 0.004*\"sweat\" + 0.004*\"rubbery\" + 0.004*\"proximity\"'),\n",
              " (3,\n",
              "  '0.018*\"latte\" + 0.010*\"raman\" + 0.008*\"cappuccino\" + 0.007*\"vanilla\" + 0.007*\"smokey\" + 0.006*\"barista\" + 0.006*\"lively\" + 0.006*\"baked\" + 0.006*\"poach\" + 0.005*\"coffee\"'),\n",
              " (24,\n",
              "  '0.009*\"soooo\" + 0.008*\"bibimbap\" + 0.008*\"stain\" + 0.007*\"fajita\" + 0.006*\"kale\" + 0.006*\"freshness\" + 0.005*\"scone\" + 0.005*\"addictive\" + 0.004*\"chick\" + 0.004*\"firm\"'),\n",
              " (30,\n",
              "  '0.009*\"sangria\" + 0.007*\"swamp\" + 0.007*\"trade\" + 0.007*\"german\" + 0.006*\"guilty\" + 0.005*\"goleta\" + 0.005*\"tacky\" + 0.004*\"spiciness\" + 0.004*\"bahn\" + 0.004*\"gentle\"')]"
            ]
          },
          "metadata": {},
          "execution_count": 61
        }
      ]
    },
    {
      "cell_type": "markdown",
      "source": [
        "### Latent Semantic Analysis (LSA)\n"
      ],
      "metadata": {
        "id": "paUBi12ficUO"
      }
    },
    {
      "cell_type": "code",
      "source": [
        "def calc_coherence_LSI(dictionary, corpus, texts, limit, start, step):\n",
        "    coherence_values = []\n",
        "    model_list = []\n",
        "    highest_coherence = 0\n",
        "    best_num_topics = None\n",
        "\n",
        "    for num_topics in range(start, limit, step):\n",
        "        model = LsiModel(corpus=corpus, id2word=dictionary, num_topics=num_topics)\n",
        "        model_list.append(model)\n",
        "        print('Model Created')\n",
        "        coherencemodel = CoherenceModel(model=model, texts=texts, dictionary=dictionary, coherence='c_v')\n",
        "        coherence = coherencemodel.get_coherence()\n",
        "        print(coherence)\n",
        "        coherence_values.append(coherence)\n",
        "        if coherence > highest_coherence:\n",
        "          highest_coherence = coherence\n",
        "          best_num_topics = num_topics\n",
        "\n",
        "    return model_list, coherence_values_Lsi, best_num_topics"
      ],
      "metadata": {
        "id": "S4QCm0wbaCiX"
      },
      "execution_count": null,
      "outputs": []
    },
    {
      "cell_type": "code",
      "source": [
        "model_list, coherence_values_Lsi, best_num_topics = calc_coherence_LSI(dictionary=id2word,\n",
        "                                                                       corpus=corpus_tfidf,\n",
        "                                                                       texts=texts,\n",
        "                                                                       start=20,\n",
        "                                                                       limit=50,\n",
        "                                                                       step=2)"
      ],
      "metadata": {
        "colab": {
          "base_uri": "https://localhost:8080/"
        },
        "id": "5-lXEXGxaRke",
        "outputId": "0b66a510-f634-4106-aa4f-82d153f1bc5b"
      },
      "execution_count": null,
      "outputs": [
        {
          "output_type": "stream",
          "name": "stdout",
          "text": [
            "Model Created\n",
            "0.3802894248249841\n",
            "Model Created\n",
            "0.3773341467838712\n",
            "Model Created\n",
            "0.3652365069961678\n",
            "Model Created\n",
            "0.36972221304139635\n",
            "Model Created\n",
            "0.3605010219372592\n",
            "Model Created\n",
            "0.35314978261973357\n",
            "Model Created\n",
            "0.3490763514268493\n",
            "Model Created\n",
            "0.3477018744438066\n",
            "Model Created\n",
            "0.34987925258153557\n",
            "Model Created\n",
            "0.34285167642535574\n",
            "Model Created\n",
            "0.33956132812409756\n",
            "Model Created\n",
            "0.3344892930040374\n",
            "Model Created\n",
            "0.3323228187422129\n",
            "Model Created\n",
            "0.3318355891341303\n",
            "Model Created\n",
            "0.3350557758820452\n"
          ]
        }
      ]
    },
    {
      "cell_type": "code",
      "source": [
        "print(\"Number of topics with highest coherence:\", best_num_topics)"
      ],
      "metadata": {
        "colab": {
          "base_uri": "https://localhost:8080/"
        },
        "id": "VPKFBk_gyD1N",
        "outputId": "0f8eae31-8242-440e-a893-e64585279a78"
      },
      "execution_count": null,
      "outputs": [
        {
          "output_type": "stream",
          "name": "stdout",
          "text": [
            "Number of topics with highest coherence: 20\n"
          ]
        }
      ]
    },
    {
      "cell_type": "code",
      "source": [
        "plot_coherence(coherence_values_Lsi,\n",
        "               start=22,\n",
        "               limit=50,\n",
        "               step=2,\n",
        "               title=\"Latent Semantic Analysis (LSA)\")\n"
      ],
      "metadata": {
        "colab": {
          "base_uri": "https://localhost:8080/",
          "height": 472
        },
        "id": "aRrXNb5Brneu",
        "outputId": "5a1436c2-0191-4b6d-be53-e8fecf8783e0"
      },
      "execution_count": null,
      "outputs": [
        {
          "output_type": "display_data",
          "data": {
            "text/plain": [
              "<Figure size 640x480 with 1 Axes>"
            ],
            "image/png": "[encoded data removed]"
          },
          "metadata": {}
        }
      ]
    },
    {
      "cell_type": "code",
      "source": [
        "index = coherence_values_Lsi.index(max(coherence_values_Lsi))\n",
        "model_list[index].show_topics()"
      ],
      "metadata": {
        "collapsed": true,
        "id": "yU6qG5nFi54q"
      },
      "execution_count": null,
      "outputs": []
    },
    {
      "cell_type": "markdown",
      "source": [
        "### Non Negative Matrix Factorization (NMF)"
      ],
      "metadata": {
        "id": "2EU-bhPtMcBB"
      }
    },
    {
      "cell_type": "code",
      "source": [
        "def nmf_topic_modeling(documents, num_topics=5, num_top_words=10):\n",
        "    # Apply NMF\n",
        "    nmf_model = NMF(n_components=num_topics, random_state=42)\n",
        "    nmf_model.fit(tfidf)\n",
        "\n",
        "    # Print the top words for each topic\n",
        "    feature_names = tfidf_vectorizer.get_feature_names_out()\n",
        "    for topic_idx, topic in enumerate(nmf_model.components_):\n",
        "        print(f\"Topic {topic_idx+1}:\")\n",
        "        top_words_idx = topic.argsort()[:-num_top_words - 1:-1]\n",
        "        top_words = [feature_names[i] for i in top_words_idx]\n",
        "        print(\" \".join(top_words))\n",
        "        print()"
      ],
      "metadata": {
        "id": "iEvfOANDFUie"
      },
      "execution_count": 39,
      "outputs": []
    },
    {
      "cell_type": "code",
      "source": [
        "nmf_topic_modeling(texts)"
      ],
      "metadata": {
        "colab": {
          "base_uri": "https://localhost:8080/",
          "height": 391
        },
        "id": "fXrHmcvuJB4U",
        "outputId": "65c68f3d-bbf7-4a52-afea-7714bff7fa2b"
      },
      "execution_count": 40,
      "outputs": [
        {
          "output_type": "error",
          "ename": "ValueError",
          "evalue": "setting an array element with a sequence.",
          "traceback": [
            "\u001b[0;31m---------------------------------------------------------------------------\u001b[0m",
            "\u001b[0;31mTypeError\u001b[0m                                 Traceback (most recent call last)",
            "\u001b[0;31mTypeError\u001b[0m: float() argument must be a string or a real number, not 'TfidfModel'",
            "\nThe above exception was the direct cause of the following exception:\n",
            "\u001b[0;31mValueError\u001b[0m                                Traceback (most recent call last)",
            "\u001b[0;32m<ipython-input-40-e066c2967aca>\u001b[0m in \u001b[0;36m<cell line: 1>\u001b[0;34m()\u001b[0m\n\u001b[0;32m----> 1\u001b[0;31m \u001b[0mnmf_topic_modeling\u001b[0m\u001b[0;34m(\u001b[0m\u001b[0mtexts\u001b[0m\u001b[0;34m)\u001b[0m\u001b[0;34m\u001b[0m\u001b[0;34m\u001b[0m\u001b[0m\n\u001b[0m",
            "\u001b[0;32m<ipython-input-39-08437acb0285>\u001b[0m in \u001b[0;36mnmf_topic_modeling\u001b[0;34m(documents, num_topics, num_top_words)\u001b[0m\n\u001b[1;32m      2\u001b[0m     \u001b[0;31m# Apply NMF\u001b[0m\u001b[0;34m\u001b[0m\u001b[0;34m\u001b[0m\u001b[0m\n\u001b[1;32m      3\u001b[0m     \u001b[0mnmf_model\u001b[0m \u001b[0;34m=\u001b[0m \u001b[0mNMF\u001b[0m\u001b[0;34m(\u001b[0m\u001b[0mn_components\u001b[0m\u001b[0;34m=\u001b[0m\u001b[0mnum_topics\u001b[0m\u001b[0;34m,\u001b[0m \u001b[0mrandom_state\u001b[0m\u001b[0;34m=\u001b[0m\u001b[0;36m42\u001b[0m\u001b[0;34m)\u001b[0m\u001b[0;34m\u001b[0m\u001b[0;34m\u001b[0m\u001b[0m\n\u001b[0;32m----> 4\u001b[0;31m     \u001b[0mnmf_model\u001b[0m\u001b[0;34m.\u001b[0m\u001b[0mfit\u001b[0m\u001b[0;34m(\u001b[0m\u001b[0mtfidf\u001b[0m\u001b[0;34m)\u001b[0m\u001b[0;34m\u001b[0m\u001b[0;34m\u001b[0m\u001b[0m\n\u001b[0m\u001b[1;32m      5\u001b[0m \u001b[0;34m\u001b[0m\u001b[0m\n\u001b[1;32m      6\u001b[0m     \u001b[0;31m# Print the top words for each topic\u001b[0m\u001b[0;34m\u001b[0m\u001b[0;34m\u001b[0m\u001b[0m\n",
            "\u001b[0;32m/usr/local/lib/python3.10/dist-packages/sklearn/decomposition/_nmf.py\u001b[0m in \u001b[0;36mfit\u001b[0;34m(self, X, y, **params)\u001b[0m\n\u001b[1;32m   1237\u001b[0m         \u001b[0;31m# param validation is done in fit_transform\u001b[0m\u001b[0;34m\u001b[0m\u001b[0;34m\u001b[0m\u001b[0m\n\u001b[1;32m   1238\u001b[0m \u001b[0;34m\u001b[0m\u001b[0m\n\u001b[0;32m-> 1239\u001b[0;31m         \u001b[0mself\u001b[0m\u001b[0;34m.\u001b[0m\u001b[0mfit_transform\u001b[0m\u001b[0;34m(\u001b[0m\u001b[0mX\u001b[0m\u001b[0;34m,\u001b[0m \u001b[0;34m**\u001b[0m\u001b[0mparams\u001b[0m\u001b[0;34m)\u001b[0m\u001b[0;34m\u001b[0m\u001b[0;34m\u001b[0m\u001b[0m\n\u001b[0m\u001b[1;32m   1240\u001b[0m         \u001b[0;32mreturn\u001b[0m \u001b[0mself\u001b[0m\u001b[0;34m\u001b[0m\u001b[0;34m\u001b[0m\u001b[0m\n\u001b[1;32m   1241\u001b[0m \u001b[0;34m\u001b[0m\u001b[0m\n",
            "\u001b[0;32m/usr/local/lib/python3.10/dist-packages/sklearn/utils/_set_output.py\u001b[0m in \u001b[0;36mwrapped\u001b[0;34m(self, X, *args, **kwargs)\u001b[0m\n\u001b[1;32m    138\u001b[0m     \u001b[0;34m@\u001b[0m\u001b[0mwraps\u001b[0m\u001b[0;34m(\u001b[0m\u001b[0mf\u001b[0m\u001b[0;34m)\u001b[0m\u001b[0;34m\u001b[0m\u001b[0;34m\u001b[0m\u001b[0m\n\u001b[1;32m    139\u001b[0m     \u001b[0;32mdef\u001b[0m \u001b[0mwrapped\u001b[0m\u001b[0;34m(\u001b[0m\u001b[0mself\u001b[0m\u001b[0;34m,\u001b[0m \u001b[0mX\u001b[0m\u001b[0;34m,\u001b[0m \u001b[0;34m*\u001b[0m\u001b[0margs\u001b[0m\u001b[0;34m,\u001b[0m \u001b[0;34m**\u001b[0m\u001b[0mkwargs\u001b[0m\u001b[0;34m)\u001b[0m\u001b[0;34m:\u001b[0m\u001b[0;34m\u001b[0m\u001b[0;34m\u001b[0m\u001b[0m\n\u001b[0;32m--> 140\u001b[0;31m         \u001b[0mdata_to_wrap\u001b[0m \u001b[0;34m=\u001b[0m \u001b[0mf\u001b[0m\u001b[0;34m(\u001b[0m\u001b[0mself\u001b[0m\u001b[0;34m,\u001b[0m \u001b[0mX\u001b[0m\u001b[0;34m,\u001b[0m \u001b[0;34m*\u001b[0m\u001b[0margs\u001b[0m\u001b[0;34m,\u001b[0m \u001b[0;34m**\u001b[0m\u001b[0mkwargs\u001b[0m\u001b[0;34m)\u001b[0m\u001b[0;34m\u001b[0m\u001b[0;34m\u001b[0m\u001b[0m\n\u001b[0m\u001b[1;32m    141\u001b[0m         \u001b[0;32mif\u001b[0m \u001b[0misinstance\u001b[0m\u001b[0;34m(\u001b[0m\u001b[0mdata_to_wrap\u001b[0m\u001b[0;34m,\u001b[0m \u001b[0mtuple\u001b[0m\u001b[0;34m)\u001b[0m\u001b[0;34m:\u001b[0m\u001b[0;34m\u001b[0m\u001b[0;34m\u001b[0m\u001b[0m\n\u001b[1;32m    142\u001b[0m             \u001b[0;31m# only wrap the first output for cross decomposition\u001b[0m\u001b[0;34m\u001b[0m\u001b[0;34m\u001b[0m\u001b[0m\n",
            "\u001b[0;32m/usr/local/lib/python3.10/dist-packages/sklearn/decomposition/_nmf.py\u001b[0m in \u001b[0;36mfit_transform\u001b[0;34m(self, X, y, W, H)\u001b[0m\n\u001b[1;32m   1559\u001b[0m         \u001b[0mself\u001b[0m\u001b[0;34m.\u001b[0m\u001b[0m_validate_params\u001b[0m\u001b[0;34m(\u001b[0m\u001b[0;34m)\u001b[0m\u001b[0;34m\u001b[0m\u001b[0;34m\u001b[0m\u001b[0m\n\u001b[1;32m   1560\u001b[0m \u001b[0;34m\u001b[0m\u001b[0m\n\u001b[0;32m-> 1561\u001b[0;31m         X = self._validate_data(\n\u001b[0m\u001b[1;32m   1562\u001b[0m             \u001b[0mX\u001b[0m\u001b[0;34m,\u001b[0m \u001b[0maccept_sparse\u001b[0m\u001b[0;34m=\u001b[0m\u001b[0;34m(\u001b[0m\u001b[0;34m\"csr\"\u001b[0m\u001b[0;34m,\u001b[0m \u001b[0;34m\"csc\"\u001b[0m\u001b[0;34m)\u001b[0m\u001b[0;34m,\u001b[0m \u001b[0mdtype\u001b[0m\u001b[0;34m=\u001b[0m\u001b[0;34m[\u001b[0m\u001b[0mnp\u001b[0m\u001b[0;34m.\u001b[0m\u001b[0mfloat64\u001b[0m\u001b[0;34m,\u001b[0m \u001b[0mnp\u001b[0m\u001b[0;34m.\u001b[0m\u001b[0mfloat32\u001b[0m\u001b[0;34m]\u001b[0m\u001b[0;34m\u001b[0m\u001b[0;34m\u001b[0m\u001b[0m\n\u001b[1;32m   1563\u001b[0m         )\n",
            "\u001b[0;32m/usr/local/lib/python3.10/dist-packages/sklearn/base.py\u001b[0m in \u001b[0;36m_validate_data\u001b[0;34m(self, X, y, reset, validate_separately, **check_params)\u001b[0m\n\u001b[1;32m    563\u001b[0m             \u001b[0;32mraise\u001b[0m \u001b[0mValueError\u001b[0m\u001b[0;34m(\u001b[0m\u001b[0;34m\"Validation should be done on X, y or both.\"\u001b[0m\u001b[0;34m)\u001b[0m\u001b[0;34m\u001b[0m\u001b[0;34m\u001b[0m\u001b[0m\n\u001b[1;32m    564\u001b[0m         \u001b[0;32melif\u001b[0m \u001b[0;32mnot\u001b[0m \u001b[0mno_val_X\u001b[0m \u001b[0;32mand\u001b[0m \u001b[0mno_val_y\u001b[0m\u001b[0;34m:\u001b[0m\u001b[0;34m\u001b[0m\u001b[0;34m\u001b[0m\u001b[0m\n\u001b[0;32m--> 565\u001b[0;31m             \u001b[0mX\u001b[0m \u001b[0;34m=\u001b[0m \u001b[0mcheck_array\u001b[0m\u001b[0;34m(\u001b[0m\u001b[0mX\u001b[0m\u001b[0;34m,\u001b[0m \u001b[0minput_name\u001b[0m\u001b[0;34m=\u001b[0m\u001b[0;34m\"X\"\u001b[0m\u001b[0;34m,\u001b[0m \u001b[0;34m**\u001b[0m\u001b[0mcheck_params\u001b[0m\u001b[0;34m)\u001b[0m\u001b[0;34m\u001b[0m\u001b[0;34m\u001b[0m\u001b[0m\n\u001b[0m\u001b[1;32m    566\u001b[0m             \u001b[0mout\u001b[0m \u001b[0;34m=\u001b[0m \u001b[0mX\u001b[0m\u001b[0;34m\u001b[0m\u001b[0;34m\u001b[0m\u001b[0m\n\u001b[1;32m    567\u001b[0m         \u001b[0;32melif\u001b[0m \u001b[0mno_val_X\u001b[0m \u001b[0;32mand\u001b[0m \u001b[0;32mnot\u001b[0m \u001b[0mno_val_y\u001b[0m\u001b[0;34m:\u001b[0m\u001b[0;34m\u001b[0m\u001b[0;34m\u001b[0m\u001b[0m\n",
            "\u001b[0;32m/usr/local/lib/python3.10/dist-packages/sklearn/utils/validation.py\u001b[0m in \u001b[0;36mcheck_array\u001b[0;34m(array, accept_sparse, accept_large_sparse, dtype, order, copy, force_all_finite, ensure_2d, allow_nd, ensure_min_samples, ensure_min_features, estimator, input_name)\u001b[0m\n\u001b[1;32m    877\u001b[0m                     \u001b[0marray\u001b[0m \u001b[0;34m=\u001b[0m \u001b[0mxp\u001b[0m\u001b[0;34m.\u001b[0m\u001b[0mastype\u001b[0m\u001b[0;34m(\u001b[0m\u001b[0marray\u001b[0m\u001b[0;34m,\u001b[0m \u001b[0mdtype\u001b[0m\u001b[0;34m,\u001b[0m \u001b[0mcopy\u001b[0m\u001b[0;34m=\u001b[0m\u001b[0;32mFalse\u001b[0m\u001b[0;34m)\u001b[0m\u001b[0;34m\u001b[0m\u001b[0;34m\u001b[0m\u001b[0m\n\u001b[1;32m    878\u001b[0m                 \u001b[0;32melse\u001b[0m\u001b[0;34m:\u001b[0m\u001b[0;34m\u001b[0m\u001b[0;34m\u001b[0m\u001b[0m\n\u001b[0;32m--> 879\u001b[0;31m                     \u001b[0marray\u001b[0m \u001b[0;34m=\u001b[0m \u001b[0m_asarray_with_order\u001b[0m\u001b[0;34m(\u001b[0m\u001b[0marray\u001b[0m\u001b[0;34m,\u001b[0m \u001b[0morder\u001b[0m\u001b[0;34m=\u001b[0m\u001b[0morder\u001b[0m\u001b[0;34m,\u001b[0m \u001b[0mdtype\u001b[0m\u001b[0;34m=\u001b[0m\u001b[0mdtype\u001b[0m\u001b[0;34m,\u001b[0m \u001b[0mxp\u001b[0m\u001b[0;34m=\u001b[0m\u001b[0mxp\u001b[0m\u001b[0;34m)\u001b[0m\u001b[0;34m\u001b[0m\u001b[0;34m\u001b[0m\u001b[0m\n\u001b[0m\u001b[1;32m    880\u001b[0m             \u001b[0;32mexcept\u001b[0m \u001b[0mComplexWarning\u001b[0m \u001b[0;32mas\u001b[0m \u001b[0mcomplex_warning\u001b[0m\u001b[0;34m:\u001b[0m\u001b[0;34m\u001b[0m\u001b[0;34m\u001b[0m\u001b[0m\n\u001b[1;32m    881\u001b[0m                 raise ValueError(\n",
            "\u001b[0;32m/usr/local/lib/python3.10/dist-packages/sklearn/utils/_array_api.py\u001b[0m in \u001b[0;36m_asarray_with_order\u001b[0;34m(array, dtype, order, copy, xp)\u001b[0m\n\u001b[1;32m    183\u001b[0m     \u001b[0;32mif\u001b[0m \u001b[0mxp\u001b[0m\u001b[0;34m.\u001b[0m\u001b[0m__name__\u001b[0m \u001b[0;32min\u001b[0m \u001b[0;34m{\u001b[0m\u001b[0;34m\"numpy\"\u001b[0m\u001b[0;34m,\u001b[0m \u001b[0;34m\"numpy.array_api\"\u001b[0m\u001b[0;34m}\u001b[0m\u001b[0;34m:\u001b[0m\u001b[0;34m\u001b[0m\u001b[0;34m\u001b[0m\u001b[0m\n\u001b[1;32m    184\u001b[0m         \u001b[0;31m# Use NumPy API to support order\u001b[0m\u001b[0;34m\u001b[0m\u001b[0;34m\u001b[0m\u001b[0m\n\u001b[0;32m--> 185\u001b[0;31m         \u001b[0marray\u001b[0m \u001b[0;34m=\u001b[0m \u001b[0mnumpy\u001b[0m\u001b[0;34m.\u001b[0m\u001b[0masarray\u001b[0m\u001b[0;34m(\u001b[0m\u001b[0marray\u001b[0m\u001b[0;34m,\u001b[0m \u001b[0morder\u001b[0m\u001b[0;34m=\u001b[0m\u001b[0morder\u001b[0m\u001b[0;34m,\u001b[0m \u001b[0mdtype\u001b[0m\u001b[0;34m=\u001b[0m\u001b[0mdtype\u001b[0m\u001b[0;34m)\u001b[0m\u001b[0;34m\u001b[0m\u001b[0;34m\u001b[0m\u001b[0m\n\u001b[0m\u001b[1;32m    186\u001b[0m         \u001b[0;32mreturn\u001b[0m \u001b[0mxp\u001b[0m\u001b[0;34m.\u001b[0m\u001b[0masarray\u001b[0m\u001b[0;34m(\u001b[0m\u001b[0marray\u001b[0m\u001b[0;34m,\u001b[0m \u001b[0mcopy\u001b[0m\u001b[0;34m=\u001b[0m\u001b[0mcopy\u001b[0m\u001b[0;34m)\u001b[0m\u001b[0;34m\u001b[0m\u001b[0;34m\u001b[0m\u001b[0m\n\u001b[1;32m    187\u001b[0m     \u001b[0;32melse\u001b[0m\u001b[0;34m:\u001b[0m\u001b[0;34m\u001b[0m\u001b[0;34m\u001b[0m\u001b[0m\n",
            "\u001b[0;31mValueError\u001b[0m: setting an array element with a sequence."
          ]
        }
      ]
    },
    {
      "cell_type": "code",
      "source": [
        "def calculate_reconstruction_error(documents, num_topics):\n",
        "    # Convert the documents into TF-IDF matrix\n",
        "    tfidf_vectorizer = TfidfVectorizer(max_df=0.95, min_df=2, stop_words='english')\n",
        "    tfidf = tfidf_vectorizer.fit_transform(documents)\n",
        "\n",
        "    # Apply NMF\n",
        "    nmf_model = NMF(n_components=num_topics, random_state=42)\n",
        "    nmf_model.fit(tfidf)\n",
        "\n",
        "    # Reconstruct the original TF-IDF matrix using NMF components\n",
        "    reconstructed_tfidf = nmf_model.transform(tfidf) @ nmf_model.components_\n",
        "\n",
        "    # Calculate the mean squared error between the original and reconstructed TF-IDF matrices\n",
        "    reconstruction_error = mean_squared_error(tfidf, reconstructed_tfidf)\n",
        "\n",
        "    return reconstruction_error"
      ],
      "metadata": {
        "id": "l2KYvZZNI67s"
      },
      "execution_count": 37,
      "outputs": []
    },
    {
      "cell_type": "code",
      "source": [
        "reconstruction_error = calculate_reconstruction_error(documents, num_topics)\n",
        "print(f\"Reconstruction error: {reconstruction_error}\")"
      ],
      "metadata": {
        "id": "AZMK6kz0I90Y"
      },
      "execution_count": null,
      "outputs": []
    }
  ]
}